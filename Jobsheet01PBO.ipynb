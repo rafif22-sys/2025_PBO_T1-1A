{
  "nbformat": 4,
  "nbformat_minor": 0,
  "metadata": {
    "colab": {
      "provenance": [],
      "authorship_tag": "ABX9TyP2Nuqf9c+18lwvaTFD/diK",
      "include_colab_link": true
    },
    "kernelspec": {
      "name": "python3",
      "display_name": "Python 3"
    },
    "language_info": {
      "name": "python"
    }
  },
  "cells": [
    {
      "cell_type": "markdown",
      "metadata": {
        "id": "view-in-github",
        "colab_type": "text"
      },
      "source": [
        "<a href=\"https://colab.research.google.com/github/rafif22-sys/2025_PBO_T1-1A/blob/main/Jobsheet01PBO.ipynb\" target=\"_parent\"><img src=\"https://colab.research.google.com/assets/colab-badge.svg\" alt=\"Open In Colab\"/></a>"
      ]
    },
    {
      "cell_type": "markdown",
      "source": [
        "JOBSHEET 01 PEMOGRAMAN BERBASIS OBJEK"
      ],
      "metadata": {
        "id": "6Pmxd8e5o_-4"
      }
    },
    {
      "cell_type": "markdown",
      "source": [
        "PRAKTIKUM 1 TIPE DATA DASAR"
      ],
      "metadata": {
        "id": "NXWEXgsy_SCA"
      }
    },
    {
      "cell_type": "code",
      "execution_count": 51,
      "metadata": {
        "colab": {
          "base_uri": "https://localhost:8080/"
        },
        "id": "RCOsPSc-m8so",
        "outputId": "87099128-1d88-44f4-bd42-66884ed0ea15"
      },
      "outputs": [
        {
          "output_type": "stream",
          "name": "stdout",
          "text": [
            "angka_int = 10 -> <class 'int'>\n",
            "angka_float = 3.14 -> <class 'float'>\n",
            "angka_complex = (2+3j) -> <class 'complex'>\n",
            "noted\n",
            "Integer adalah tipe data untuk bilangan Bulat\n",
            "float adalah tipe data untuk bilangan Desimal/koma\n",
            "complex adalah tipe data untuk bilangan yang terdiri dari bilangan bulat dan bilangan imajiner\n"
          ]
        }
      ],
      "source": [
        "# 1. Number,Integer,Complex\n",
        "# Integer (int)\n",
        "angka_int = 10\n",
        "print(\"angka_int =\", angka_int, \"->\", type(angka_int))\n",
        "\n",
        "# Float (float)\n",
        "angka_float = 3.14\n",
        "print(\"angka_float =\", angka_float, \"->\", type(angka_float))\n",
        "\n",
        "# Complex\n",
        "angka_complex = 2 + 3j\n",
        "print(\"angka_complex =\", angka_complex, \"->\", type(angka_complex))\n",
        "\n",
        "print(\"noted\")\n",
        "print(\"Integer adalah tipe data untuk bilangan Bulat\")\n",
        "print(\"float adalah tipe data untuk bilangan Desimal/koma\")\n",
        "print(\"complex adalah tipe data untuk bilangan yang terdiri dari bilangan bulat dan bilangan imajiner\")\n",
        "\n",
        "\n"
      ]
    },
    {
      "cell_type": "code",
      "source": [
        "# 2. Boolean\n",
        "is_active = True\n",
        "print(\"is_active =\", is_active, \"->\", type(is_active))\n",
        "print(\"noted\")\n",
        "print(\"Tipe data boolean adalah tipe data yang bernilai True atau False\")\n"
      ],
      "metadata": {
        "id": "sVX72H1vnyUk",
        "outputId": "ca2f8da1-7d5e-4388-d56b-40266c3e9acb",
        "colab": {
          "base_uri": "https://localhost:8080/"
        }
      },
      "execution_count": 52,
      "outputs": [
        {
          "output_type": "stream",
          "name": "stdout",
          "text": [
            "is_active = True -> <class 'bool'>\n",
            "noted\n",
            "Tipe data boolean adalah tipe data yang bernilai True atau False\n"
          ]
        }
      ]
    },
    {
      "cell_type": "code",
      "source": [
        "# 3. String\n",
        "teks = \"Hello, Python!\"\n",
        "print(\"teks =\", teks, \"->\", type(teks))\n",
        "print(\"noted: Tipe data String adalah tipe data yang menyimpan nilai huruf/Alfhabet\")\n"
      ],
      "metadata": {
        "id": "uyCf5_22nxz4",
        "outputId": "0477076c-5e4a-4771-8101-e098bb1753e2",
        "colab": {
          "base_uri": "https://localhost:8080/"
        }
      },
      "execution_count": 53,
      "outputs": [
        {
          "output_type": "stream",
          "name": "stdout",
          "text": [
            "teks = Hello, Python! -> <class 'str'>\n",
            "noted: Tipe data String adalah tipe data yang menyimpan nilai huruf/Alfhabet\n"
          ]
        }
      ]
    },
    {
      "cell_type": "markdown",
      "source": [],
      "metadata": {
        "id": "gU0NB4eYnvQY"
      }
    },
    {
      "cell_type": "code",
      "source": [
        "# 4. List\n",
        "# List adalah tipe data terurut dan dapat diubah (mutable)\n",
        "daftar_angka = [1, 2, 3, 4, 5]\n",
        "print(\"daftar_angka =\", daftar_angka, \"->\", type(daftar_angka))\n",
        "\n"
      ],
      "metadata": {
        "id": "L-LpMC7K890q",
        "outputId": "05f70c44-d9cb-4d09-c9c9-cbdad463bad6",
        "colab": {
          "base_uri": "https://localhost:8080/"
        }
      },
      "execution_count": 6,
      "outputs": [
        {
          "output_type": "stream",
          "name": "stdout",
          "text": [
            "daftar_angka = [1, 2, 3, 4, 5] -> <class 'list'>\n"
          ]
        }
      ]
    },
    {
      "cell_type": "code",
      "source": [
        "# 5. Tuple\n",
        "# Tuple adalah tipe data terurut tetapi tidak dapat diubah (immutable)\n",
        "koordinat = (10, 20)\n",
        "print(\"koordinat =\", koordinat, \"->\", type(koordinat))\n"
      ],
      "metadata": {
        "id": "VeXWhi1W9KqN",
        "outputId": "1332f611-24bc-4664-a309-4180837bc5f6",
        "colab": {
          "base_uri": "https://localhost:8080/"
        }
      },
      "execution_count": 7,
      "outputs": [
        {
          "output_type": "stream",
          "name": "stdout",
          "text": [
            "koordinat = (10, 20) -> <class 'tuple'>\n"
          ]
        }
      ]
    },
    {
      "cell_type": "code",
      "source": [
        "# 6. Dictionary\n",
        "# Dictionary menyimpan data dalam pasangan key-value\n",
        "data_mahasiswa = {\n",
        "     \"nama\": \"Andi\",\n",
        "     \"nim\": \"A11.2022.12345\",\n",
        "    \"jurusan\": \"Teknik Informatika\"\n",
        " }\n",
        "print(\"data_mahasiswa =\", data_mahasiswa, \"->\", type(data_mahasiswa))"
      ],
      "metadata": {
        "id": "QJoZwcF99ZD0",
        "outputId": "d7e99fb7-fba9-4288-8d17-6bd93ed35ba9",
        "colab": {
          "base_uri": "https://localhost:8080/"
        }
      },
      "execution_count": 9,
      "outputs": [
        {
          "output_type": "stream",
          "name": "stdout",
          "text": [
            "data_mahasiswa = {'nama': 'Andi', 'nim': 'A11.2022.12345', 'jurusan': 'Teknik Informatika'} -> <class 'dict'>\n"
          ]
        }
      ]
    },
    {
      "cell_type": "code",
      "source": [
        "# 7. Set\n",
        "# Set adalah tipe data yang tidak terurut, unik (tiap elemen hanya muncul 1x)\n",
        "himpunan_angka = {1, 2, 3, 2, 1}\n",
        "print(\"himpunan_angka =\", himpunan_angka, \"->\", type(himpunan_angka))"
      ],
      "metadata": {
        "id": "Kh34FRvP-mRe",
        "outputId": "28f252ba-1a85-46a5-e743-7efcbeb971f2",
        "colab": {
          "base_uri": "https://localhost:8080/"
        }
      },
      "execution_count": 10,
      "outputs": [
        {
          "output_type": "stream",
          "name": "stdout",
          "text": [
            "himpunan_angka = {1, 2, 3} -> <class 'set'>\n"
          ]
        }
      ]
    },
    {
      "cell_type": "code",
      "source": [
        "# 8. Contoh penggunaan konversi tipe data\n",
        "nilai_str = \"100\"\n",
        "print(\"\\nnilai_str =\", nilai_str, \"->\", type(nilai_str))\n",
        "nilai_int = int(nilai_str)  # konversi string ke integer\n",
        "print(\"nilai_int =\", nilai_int, \"->\", type(nilai_int))\n"
      ],
      "metadata": {
        "id": "xcjBVDRW-4uW",
        "outputId": "65c32cac-a1f0-4ee4-8bb5-3062a7575803",
        "colab": {
          "base_uri": "https://localhost:8080/"
        }
      },
      "execution_count": 12,
      "outputs": [
        {
          "output_type": "stream",
          "name": "stdout",
          "text": [
            "\n",
            "nilai_str = 100 -> <class 'str'>\n",
            "nilai_int = 100 -> <class 'int'>\n"
          ]
        }
      ]
    },
    {
      "cell_type": "markdown",
      "source": [
        "PRAKTIKUM 02 VARIABEL DAN OPERASI DASAR\n"
      ],
      "metadata": {
        "id": "06-nFSSi_GyR"
      }
    },
    {
      "cell_type": "code",
      "source": [
        "# 1. Pendeklarasian Variabel\n",
        "nama = \"Budi\"\n",
        "umur = 20\n",
        "tinggi = 170.5\n",
        "is_student = True\n",
        "print(\"Nama =\", nama)\n",
        "print(\"Umur =\", umur)\n",
        "print(\"Tinggi =\", tinggi, \"cm\")\n",
        "print(\"Mahasiswa =\", is_student)\n",
        "# Python tidak memerlukan deklarasi tipe data secara eksplisit.\n",
        "# Tipe data variabel akan menyesuaikan nilai yang diberikan.\n",
        "\n"
      ],
      "metadata": {
        "id": "Slm5U27y_QBa",
        "outputId": "b6e07ee9-47d7-4641-dcc4-56d52ccda52c",
        "colab": {
          "base_uri": "https://localhost:8080/"
        }
      },
      "execution_count": 15,
      "outputs": [
        {
          "output_type": "stream",
          "name": "stdout",
          "text": [
            "Nama = Budi\n",
            "Umur = 20\n",
            "Tinggi = 170.5 cm\n",
            "Mahasiswa = True\n"
          ]
        }
      ]
    },
    {
      "cell_type": "code",
      "source": [
        "# 2. Operasi Aritmetika\n",
        "a = 10\n",
        "b = 3\n",
        "penjumlahan = a + b      # Tambah\n",
        "pengurangan = a - b      # Kurang\n",
        "perkalian = a * b        # Kali\n",
        "pembagian = a / b        # Bagi (hasil float)\n",
        "pembagian_bulat = a // b # Bagi (bulat)\n",
        "modulus = a % b          # Sisa bagi\n",
        "pangkat = a ** b         # Pemangkatan 28:\n",
        "print(\"\\nOPERASI ARITMETIKA\")\n",
        "print(\"a =\", a, \", b =\", b)\n",
        "print(\"Penjumlahan =\", penjumlahan)\n",
        "print(\"Pengurangan =\", pengurangan)\n",
        "print(\"Perkalian =\", perkalian)\n",
        "print(\"Pembagian =\", pembagian)\n",
        "print(\"Pembagian Bulat =\", pembagian_bulat)\n",
        "print(\"Modulus =\", modulus)\n",
        "print(\"Pangkat =\", pangkat)\n",
        "\n"
      ],
      "metadata": {
        "id": "QMjEawgt_-Fb",
        "outputId": "e650559c-728e-4489-fa77-112e845b361f",
        "colab": {
          "base_uri": "https://localhost:8080/"
        }
      },
      "execution_count": 17,
      "outputs": [
        {
          "output_type": "stream",
          "name": "stdout",
          "text": [
            "\n",
            "OPERASI ARITMETIKA\n",
            "a = 10 , b = 3\n",
            "Penjumlahan = 13\n",
            "Pengurangan = 7\n",
            "Perkalian = 30\n",
            "Pembagian = 3.3333333333333335\n",
            "Pembagian Bulat = 3\n",
            "Modulus = 1\n",
            "Pangkat = 1000\n"
          ]
        }
      ]
    },
    {
      "cell_type": "code",
      "source": [
        "# 3. Operasi Perbandingan\n",
        "# Menghasilkan nilai Boolean (True/False)\n",
        "lebih_besar = a > b\n",
        "kurang_dari = a < b\n",
        "sama_dengan = a == b\n",
        "tidak_sama = a != b\n",
        "lebih_besar_sama = a >= b\n",
        "kurang_sama = a <= b\n",
        "print(\"\\nOPERASI PERBANDINGAN\")\n",
        "print(\"a > b =\", lebih_besar)\n",
        "print(\"a < b =\", kurang_dari)\n",
        "print(\"a == b =\", sama_dengan)\n",
        "print(\"a != b =\", tidak_sama)\n",
        "print(\"a >= b =\", lebih_besar_sama)\n",
        "print(\"a <= b =\", kurang_sama)\n"
      ],
      "metadata": {
        "id": "Jjw_JDrWDlat",
        "outputId": "bc0e9476-ad4d-4ea3-83b5-6860dfe064a8",
        "colab": {
          "base_uri": "https://localhost:8080/"
        }
      },
      "execution_count": 21,
      "outputs": [
        {
          "output_type": "stream",
          "name": "stdout",
          "text": [
            "\n",
            "OPERASI PERBANDINGAN\n",
            "a > b = True\n",
            "a < b = False\n",
            "a == b = False\n",
            "a != b = True\n",
            "a >= b = True\n",
            "a <= b = False\n"
          ]
        }
      ]
    },
    {
      "cell_type": "code",
      "source": [
        "# 4. Operasi Logika 57: # and, or, not 58:\n",
        "x = True\n",
        "y = False\n",
        "logika_and = x and y\n",
        "logika_or = x or y\n",
        "logika_not_x = not x\n",
        "print(\"\\nOPERASI LOGIKA\")\n",
        "print(\"x =\", x, \", y =\", y)\n",
        "print(\"x and y =\", logika_and)\n",
        "print(\"x or y =\", logika_or)\n",
        "print(\"not x =\", logika_not_x)\n"
      ],
      "metadata": {
        "id": "-RsIqqXRD9fl",
        "outputId": "f4dc7a19-348a-49a1-d322-c2c72bb289c5",
        "colab": {
          "base_uri": "https://localhost:8080/"
        }
      },
      "execution_count": 22,
      "outputs": [
        {
          "output_type": "stream",
          "name": "stdout",
          "text": [
            "\n",
            "OPERASI LOGIKA\n",
            "x = True , y = False\n",
            "x and y = False\n",
            "x or y = True\n",
            "not x = False\n"
          ]
        }
      ]
    },
    {
      "cell_type": "code",
      "source": [
        "# 5. Contoh penggunaan di dalam percabangan\n",
        "if a > b and b > 0:\n",
        "  print(\"\\nKondisi terpenuhi: a lebih besar dari b, dan b masih positif.\")\n",
        "else:\n",
        "  print(\"\\nKondisi tidak terpenuhi atau b <= 0.\")\n"
      ],
      "metadata": {
        "id": "HIQhx76HEbL-",
        "outputId": "383da931-94bc-432e-a9e4-3bd510d50cb5",
        "colab": {
          "base_uri": "https://localhost:8080/"
        }
      },
      "execution_count": 23,
      "outputs": [
        {
          "output_type": "stream",
          "name": "stdout",
          "text": [
            "\n",
            "Kondisi terpenuhi: a lebih besar dari b, dan b masih positif.\n"
          ]
        }
      ]
    },
    {
      "cell_type": "markdown",
      "source": [
        "PRAKTIKUM 03 PERCABANGAN\n"
      ],
      "metadata": {
        "id": "Hhm3jV4VE9O8"
      }
    },
    {
      "cell_type": "code",
      "source": [
        "# 1. IF Sederhana\n",
        "# Program hanya mengeksekusi blok jika kondisinya True 05:\n",
        "nilai = 85\n",
        "print(\"Contoh IF Sederhana:\")\n",
        "if nilai > 80:\n",
        "  print(\"Selamat! Anda lulus dengan nilai tinggi.\\n\")\n",
        "\n"
      ],
      "metadata": {
        "id": "zhgqf1z0E6e-",
        "outputId": "634effc8-6863-4419-c890-9ec90148f452",
        "colab": {
          "base_uri": "https://localhost:8080/"
        }
      },
      "execution_count": 25,
      "outputs": [
        {
          "output_type": "stream",
          "name": "stdout",
          "text": [
            "Contoh IF Sederhana:\n",
            "Selamat! Anda lulus dengan nilai tinggi.\n",
            "\n"
          ]
        }
      ]
    },
    {
      "cell_type": "code",
      "source": [
        "# 2. IF-ELSE\n",
        "# Jika kondisi True, eksekusi blok if; jika False, eksekusi blok else 14:\n",
        "umur = 17\n",
        "print(\"Contoh IF-ELSE:\")\n",
        "if umur >= 18:\n",
        "  print(\"Anda sudah cukup umur untuk mendapatkan SIM.\")\n",
        "else:\n",
        "  print(\"Anda belum cukup umur untuk mendapatkan SIM.\\n\")\n"
      ],
      "metadata": {
        "id": "mGyAIyeTFJzp",
        "outputId": "fac23384-e456-44a9-f760-8902cabf384c",
        "colab": {
          "base_uri": "https://localhost:8080/"
        }
      },
      "execution_count": 27,
      "outputs": [
        {
          "output_type": "stream",
          "name": "stdout",
          "text": [
            "Contoh IF-ELSE:\n",
            "Anda belum cukup umur untuk mendapatkan SIM.\n",
            "\n"
          ]
        }
      ]
    },
    {
      "cell_type": "code",
      "source": [
        "# 3. IF-ELIF-ELSE\n",
        "# Menangani banyak kondisi secara berurutan.\n",
        "# Jika ada kondisi yang terpenuhi, blok yang bersangkutan dieksekusi, 26: # lalu program melewati blok kondisi setelahnya.\n",
        "\n",
        "hari = \"Rabu\"\n",
        "print(\"Contoh IF-ELIF-ELSE:\")\n",
        "if hari == \"Senin\":\n",
        "  print(\"Hari Senin - Saatnya kembali bekerja!\")\n",
        "elif hari == \"Selasa\":\n",
        "  print(\"Hari Selasa - Jadwal rapat mingguan.\")\n",
        "elif hari == \"Rabu\":\n",
        "  print(\"Hari Rabu - Ada diskon di beberapa toko.\")\n",
        "else:\n",
        "  print(\"Hari lainnya - Atur jadwalmu dengan baik.\\n\")\n"
      ],
      "metadata": {
        "id": "SWFhbFmjFZwi",
        "outputId": "2d035fb4-71c3-4ee2-8a99-02ddd0c1b8ad",
        "colab": {
          "base_uri": "https://localhost:8080/"
        }
      },
      "execution_count": 28,
      "outputs": [
        {
          "output_type": "stream",
          "name": "stdout",
          "text": [
            "Contoh IF-ELIF-ELSE:\n",
            "Hari Rabu - Ada diskon di beberapa toko.\n"
          ]
        }
      ]
    },
    {
      "cell_type": "code",
      "source": [
        "# 4. IF Bersarang (Nested IF)\n",
        "# Kondisi di dalam kondisi, biasa digunakan jika kita perlu 42: # memeriksa sub-kondisi setelah kondisi pertama terpenuhi. 43:\n",
        "suhu = 35\n",
        "print(\"Contoh IF Bersarang (Nested IF):\")\n",
        "if suhu > 30:\n",
        "  print(\"Cuaca cukup panas.\")\n",
        "  if suhu > 40:\n",
        "    print(\"Bahkan sangat terik! Disarankan banyak minum air.\")\n",
        "  else:\n",
        "    print(\"Masih relatif normal, tapi tetap jaga kesehatan.\")\n",
        "else:\n",
        "  print(\"Cuaca sepertinya cukup sejuk.\\n\")\n"
      ],
      "metadata": {
        "id": "6ziDu1aqF6ur",
        "outputId": "a65c3812-9851-4876-b8d6-3db69adf2b61",
        "colab": {
          "base_uri": "https://localhost:8080/"
        }
      },
      "execution_count": 30,
      "outputs": [
        {
          "output_type": "stream",
          "name": "stdout",
          "text": [
            "Contoh IF Bersarang (Nested IF):\n",
            "Cuaca cukup panas.\n",
            "Masih relatif normal, tapi tetap jaga kesehatan.\n"
          ]
        }
      ]
    },
    {
      "cell_type": "code",
      "source": [
        "# 5. Menggabungkan Percabangan dengan Operasi Logika 57: # Memeriksa beberapa kondisi sekaligus dengan and, or, not 58:\n",
        "nilai_teori = 75\n",
        "nilai_praktik = 80\n",
        "print(\"Contoh IF dengan Operasi Logika AND/OR:\")\n",
        "if nilai_teori >= 70 and nilai_praktik >= 70:\n",
        "  print(\"Anda lulus karena nilai teori dan praktik memadai.\")\n",
        "elif nilai_teori < 70 and nilai_praktik < 70:\n",
        "  print(\"Anda perlu meningkatkan nilai teori dan praktik.\")\n",
        "elif nilai_teori < 70:\n",
        "  print(\"Anda perlu meningkatkan nilai teori.\")\n",
        "else:\n",
        "  print(\"Anda perlu meningkatkan nilai praktik.\\n\")"
      ],
      "metadata": {
        "id": "E-FRYA1OGuCh",
        "outputId": "441a36c1-9ebd-47fd-9aee-87bec03afa54",
        "colab": {
          "base_uri": "https://localhost:8080/"
        }
      },
      "execution_count": 32,
      "outputs": [
        {
          "output_type": "stream",
          "name": "stdout",
          "text": [
            "Contoh IF dengan Operasi Logika AND/OR:\n",
            "Anda lulus karena nilai teori dan praktik memadai.\n"
          ]
        }
      ]
    },
    {
      "cell_type": "code",
      "source": [
        "#6. Penggunaan If Ternary (atau Conditional Expression)\n",
        "# Bentuk ringkas: <hasil_if_true> if <kondisi> else <hasil_if_false> 74:\n",
        "angka = -5\n",
        "print(\"Contoh If Ternary (Conditional Expression):\")\n",
        "status = \"Positif\" if angka > 0 else \"Negatif atau Nol\"\n",
        "print(\"Angka =\", angka, \"=>\", status)\n"
      ],
      "metadata": {
        "id": "BG5_v5SKHIXA",
        "outputId": "61836543-f33b-4038-f65d-492996cf394b",
        "colab": {
          "base_uri": "https://localhost:8080/"
        }
      },
      "execution_count": 34,
      "outputs": [
        {
          "output_type": "stream",
          "name": "stdout",
          "text": [
            "Contoh If Ternary (Conditional Expression):\n",
            "Angka = -5 => Negatif atau Nol\n"
          ]
        }
      ]
    },
    {
      "cell_type": "markdown",
      "source": [
        "PRAKTIKUM 04 PERULANGAN"
      ],
      "metadata": {
        "id": "bER60p9mHfIa"
      }
    },
    {
      "cell_type": "code",
      "source": [
        "# 1. FOR Loop dengan range()\n",
        "print(\"1) FOR loop dengan range()\")\n",
        "for i in range(5):\n",
        "  print(\"Perulangan ke-\", i)\n",
        "# range(5) menghasilkan nilai 0, 1, 2, 3, dan 4\n",
        "# Sehingga perulangan akan berjalan sebanyak 5 kali 09:\n",
        "print()  # pemisah output\n"
      ],
      "metadata": {
        "id": "Jf4na4Y_HlN7",
        "outputId": "df72345c-8165-4862-bd17-176b2f0c6237",
        "colab": {
          "base_uri": "https://localhost:8080/"
        }
      },
      "execution_count": 35,
      "outputs": [
        {
          "output_type": "stream",
          "name": "stdout",
          "text": [
            "1) FOR loop dengan range()\n",
            "Perulangan ke- 0\n",
            "Perulangan ke- 1\n",
            "Perulangan ke- 2\n",
            "Perulangan ke- 3\n",
            "Perulangan ke- 4\n",
            "\n"
          ]
        }
      ]
    },
    {
      "cell_type": "code",
      "source": [
        "# 2. FOR Loop untuk mengiterasi List\n",
        "print(\"2) FOR loop mengiterasi list\")\n",
        "buah = [\"apel\", \"mangga\", \"jeruk\", \"pisang\"]\n",
        "for item in buah:\n",
        "  print(\"Buah:\", item)\n",
        "# Loop akan mengeksekusi setiap elemen dalam list \"buah\" 18:\n",
        "print()\n"
      ],
      "metadata": {
        "id": "hKmT5wYTIWPJ",
        "outputId": "662d089c-5515-43f2-fb0c-450f3b687d82",
        "colab": {
          "base_uri": "https://localhost:8080/"
        }
      },
      "execution_count": 36,
      "outputs": [
        {
          "output_type": "stream",
          "name": "stdout",
          "text": [
            "2) FOR loop mengiterasi list\n",
            "Buah: apel\n",
            "Buah: mangga\n",
            "Buah: jeruk\n",
            "Buah: pisang\n",
            "\n"
          ]
        }
      ]
    },
    {
      "cell_type": "code",
      "source": [
        "# 3. WHILE Loop\n",
        "print(\"3) WHILE loop sederhana\")\n",
        "count = 0\n",
        "while count < 5:\n",
        "  print(\"count =\", count)\n",
        "  count += 1  # increment\n",
        " # Perulangan while terus dijalankan selama kondisi (count < 5) bernilai True\n",
        "print()"
      ],
      "metadata": {
        "id": "nW0hiwf2IhTb",
        "outputId": "c1491f93-f8de-4ba5-cbdc-65bb14deb348",
        "colab": {
          "base_uri": "https://localhost:8080/"
        }
      },
      "execution_count": 37,
      "outputs": [
        {
          "output_type": "stream",
          "name": "stdout",
          "text": [
            "3) WHILE loop sederhana\n",
            "count = 0\n",
            "count = 1\n",
            "count = 2\n",
            "count = 3\n",
            "count = 4\n",
            "\n"
          ]
        }
      ]
    },
    {
      "cell_type": "code",
      "source": [
        "# 4. BREAK pada Loop\n",
        "print(\"4) BREAK di dalam loop\")\n",
        "for i in range(10):\n",
        "  if i == 3:\n",
        "    print(\"Loop dihentikan pada i =\", i)\n",
        "    break  # mengakhiri loop saat i = 3\n",
        "  print(\"i =\", i)\n",
        "# Keyword break langsung menghentikan keseluruhan perulangan\n"
      ],
      "metadata": {
        "id": "7ih9eGd6I9uT",
        "outputId": "ff79defc-3f00-4d0a-a519-37389e7e51bf",
        "colab": {
          "base_uri": "https://localhost:8080/"
        }
      },
      "execution_count": 40,
      "outputs": [
        {
          "output_type": "stream",
          "name": "stdout",
          "text": [
            "4) BREAK di dalam loop\n",
            "i = 0\n",
            "i = 1\n",
            "i = 2\n",
            "Loop dihentikan pada i = 3\n"
          ]
        }
      ]
    },
    {
      "cell_type": "code",
      "source": [
        "# 5. CONTINUE pada Loop\n",
        "print(\"5) CONTINUE di dalam loop\")\n",
        "for i in range(5):\n",
        "  if i == 2:\n",
        "    print(\"Lewati i =\", i, \"dengan continue\")\n",
        "    continue  # melewati iterasi saat ini dan lanjut ke iterasi berikutnya\n",
        "  print(\"i =\", i)\n",
        "# Saat i = 2, baris print(\"i =\", i) tidak akan dieksekusi\n",
        "print()\n",
        "\n"
      ],
      "metadata": {
        "id": "nErhsI5LJaNV",
        "outputId": "95d21cdc-3022-4fe3-e18b-8dfc9a9c5a46",
        "colab": {
          "base_uri": "https://localhost:8080/"
        }
      },
      "execution_count": 42,
      "outputs": [
        {
          "output_type": "stream",
          "name": "stdout",
          "text": [
            "5) CONTINUE di dalam loop\n",
            "i = 0\n",
            "i = 1\n",
            "Lewati i = 2 dengan continue\n",
            "i = 3\n",
            "i = 4\n",
            "\n"
          ]
        }
      ]
    },
    {
      "cell_type": "code",
      "source": [
        "# 6. NESTED Loop (Loop Bersarang)\n",
        "print(\"6) NESTED loop\")\n",
        "for i in range(3):            # Loop luar (outer loop)\n",
        "  for j in range(2):        # Loop dalam (inner loop)\n",
        "    print(f\"i={i}, j={j}\")\n",
        "# Pada setiap iterasi i, loop j akan berjalan dari 0 sampai 1\n",
        "print()\n"
      ],
      "metadata": {
        "id": "0tc4oDqQJ65k",
        "outputId": "83da366f-3c85-47fb-a122-44f01e6d5add",
        "colab": {
          "base_uri": "https://localhost:8080/"
        }
      },
      "execution_count": 43,
      "outputs": [
        {
          "output_type": "stream",
          "name": "stdout",
          "text": [
            "6) NESTED loop\n",
            "i=0, j=0\n",
            "i=0, j=1\n",
            "i=1, j=0\n",
            "i=1, j=1\n",
            "i=2, j=0\n",
            "i=2, j=1\n",
            "\n"
          ]
        }
      ]
    },
    {
      "cell_type": "code",
      "source": [
        "#7. Memanfaatkan ELSE pada Loop\n",
        "print(\"7) ELSE pada loop for/while\")\n",
        "# Python memiliki fitur unik: blok else pada loop\n",
        "# Blok else akan dieksekusi jika loop selesai tanpa di-break.\n",
        "\n",
        "for x in range(3):\n",
        "  print(\"x =\", x)\n",
        "else:\n",
        "  print(\"Loop for telah selesai tanpa break.\\n\")\n",
        "y = 0\n",
        "while y < 3:\n",
        "  print(\"y =\", y)\n",
        "  y += 1\n",
        "else:\n",
        "  print(\"Loop while telah selesai tanpa break.\\n\")\n"
      ],
      "metadata": {
        "id": "16wVENh9KNgl",
        "outputId": "1785eb38-d3ba-47d3-8987-4b1d960efa84",
        "colab": {
          "base_uri": "https://localhost:8080/"
        }
      },
      "execution_count": 45,
      "outputs": [
        {
          "output_type": "stream",
          "name": "stdout",
          "text": [
            "7) ELSE pada loop for/while\n",
            "x = 0\n",
            "x = 1\n",
            "x = 2\n",
            "Loop for telah selesai tanpa break.\n",
            "\n",
            "y = 0\n",
            "y = 1\n",
            "y = 2\n",
            "Loop while telah selesai tanpa break.\n",
            "\n"
          ]
        }
      ]
    },
    {
      "cell_type": "code",
      "source": [
        "# 8. PASS sebagai placeholder\n",
        "print(\"8) PASS (placeholder)\")\n",
        "for i in range(3):\n",
        "  if i == 1:\n",
        "    pass  # pass tidak melakukan apa-apa, digunakan sebagai placeholder\n",
        "  print(\"i =\", i)\n"
      ],
      "metadata": {
        "id": "wnfvCbfCKx0e",
        "outputId": "2c782c7d-6c52-4a4b-de4d-99f010232ee8",
        "colab": {
          "base_uri": "https://localhost:8080/"
        }
      },
      "execution_count": 48,
      "outputs": [
        {
          "output_type": "stream",
          "name": "stdout",
          "text": [
            "8) PASS (placeholder)\n",
            "i = 0\n",
            "i = 1\n",
            "i = 2\n"
          ]
        }
      ]
    },
    {
      "cell_type": "code",
      "source": [
        "\n"
      ],
      "metadata": {
        "id": "hwb6KeOPJuTd"
      },
      "execution_count": null,
      "outputs": []
    }
  ]
}