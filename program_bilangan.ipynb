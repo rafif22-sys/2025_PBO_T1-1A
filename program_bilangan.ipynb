{
  "nbformat": 4,
  "nbformat_minor": 0,
  "metadata": {
    "colab": {
      "provenance": [],
      "authorship_tag": "ABX9TyMM6mB6qG4AGAu4mPJEEG29",
      "include_colab_link": true
    },
    "kernelspec": {
      "name": "python3",
      "display_name": "Python 3"
    },
    "language_info": {
      "name": "python"
    }
  },
  "cells": [
    {
      "cell_type": "markdown",
      "metadata": {
        "id": "view-in-github",
        "colab_type": "text"
      },
      "source": [
        "<a href=\"https://colab.research.google.com/github/rafif22-sys/2025_PBO_T1-1A/blob/main/program_bilangan.ipynb\" target=\"_parent\"><img src=\"https://colab.research.google.com/assets/colab-badge.svg\" alt=\"Open In Colab\"/></a>"
      ]
    },
    {
      "cell_type": "code",
      "execution_count": 1,
      "metadata": {
        "colab": {
          "base_uri": "https://localhost:8080/"
        },
        "id": "tTBCxdiOYT-c",
        "outputId": "7ae63d9e-7299-4455-a70f-b6ba45111158"
      },
      "outputs": [
        {
          "output_type": "stream",
          "name": "stdout",
          "text": [
            "===== Program Bilangan =====\n",
            "Silahkan Masukkan Bilangan Bulat Yang Ingin Diperiksa : 12\n",
            "\n",
            "Angka 12 adalah bilangan Genap\n",
            "Angka 12 BUKAN bilangan Prima\n",
            "Apakah Anda Ingin Keluar (Y/N) : y\n",
            "===== Terimakasih =====\n"
          ]
        }
      ],
      "source": [
        "import os\n",
        "\n",
        "def isPrime(angka):\n",
        "    if angka <= 1:\n",
        "        return False\n",
        "    for i in range(2, int(angka**0.5) + 1):  # Cek dari 2 sampai akar kuadrat dari angka\n",
        "        if angka % i == 0:\n",
        "            return False\n",
        "    return True\n",
        "\n",
        "while True:\n",
        "    os.system(\"cls\")\n",
        "    print(\"===== Program Bilangan =====\")\n",
        "    while True:\n",
        "        try:\n",
        "            angka = int(input(\"Silahkan Masukkan Bilangan Bulat Yang Ingin Diperiksa : \"))\n",
        "            break\n",
        "        except:\n",
        "            print(\"Input Tidak Valid, Silahkan Masukkan Bilangan Bulat\")\n",
        "\n",
        "\n",
        "    # Memeriksa ganjil genap\n",
        "    if angka % 2 == 0 :\n",
        "        print(f\"\\nAngka {angka} adalah bilangan Genap\")\n",
        "    else :\n",
        "        print(f\"\\nAngka {angka} adalah bilangan Ganjil\")\n",
        "\n",
        "    # Memeriksa Bilangan Prima\n",
        "    if isPrime(angka):\n",
        "        print(f\"Angka {angka} adalah bilangan Prima\")\n",
        "    else:\n",
        "        print(f\"Angka {angka} BUKAN bilangan Prima\")\n",
        "\n",
        "    keluar = input(\"Apakah Anda Ingin Keluar (Y/N) : \")\n",
        "    if keluar == \"Y\" or keluar == \"y\":\n",
        "        break\n",
        "print(\"===== Terimakasih =====\")"
      ]
    }
  ]
}