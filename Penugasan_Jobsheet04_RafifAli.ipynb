{
  "nbformat": 4,
  "nbformat_minor": 0,
  "metadata": {
    "colab": {
      "provenance": [],
      "authorship_tag": "ABX9TyM8n12m3IHd//GEHekRHMMC",
      "include_colab_link": true
    },
    "kernelspec": {
      "name": "python3",
      "display_name": "Python 3"
    },
    "language_info": {
      "name": "python"
    }
  },
  "cells": [
    {
      "cell_type": "markdown",
      "metadata": {
        "id": "view-in-github",
        "colab_type": "text"
      },
      "source": [
        "<a href=\"https://colab.research.google.com/github/rafif22-sys/2025_PBO_T1-1A/blob/main/Penugasan_Jobsheet04_RafifAli.ipynb\" target=\"_parent\"><img src=\"https://colab.research.google.com/assets/colab-badge.svg\" alt=\"Open In Colab\"/></a>"
      ]
    },
    {
      "cell_type": "code",
      "execution_count": 16,
      "metadata": {
        "id": "weUK7_c_ML2W",
        "outputId": "20934000-bc18-4980-a731-8fdf6d94f8b8",
        "colab": {
          "base_uri": "https://localhost:8080/"
        }
      },
      "outputs": [
        {
          "output_type": "stream",
          "name": "stdout",
          "text": [
            "--- Info Mahasiswa Sarjana ---\n",
            "Nama : Rafif Ali\n",
            "NIM : 4.33.24.0.22\n",
            "IPK : 3.4\n",
            "Semester = 7\n",
            "SKS Lulus = 120\n",
            "Predikat : Sangat Memuaskan\n",
            "------------------------------\n",
            "\n",
            "--- Info Mahasiswa Magister ---\n",
            "Nama : Budi Santoso\n",
            "NIM : 2.32.20.1.23\n",
            "IPK : 2.98\n",
            "Judul Tesis = Implementasi OOP Pada Perangkat IOT\n",
            "Nama Pembimbing = Prof.Stella Cristie S.Kom,M.Kom\n",
            "Tanpa Predikat\n"
          ]
        }
      ],
      "source": [
        "# Penugasan Jobsheet 4\n",
        "\n",
        "# Parent Class\n",
        "class Mahasiswa:\n",
        "  def __init__(self, nama:str, nim:str,ipk:float):\n",
        "    self.nama = nama\n",
        "    self.nim = nim\n",
        "    self.ipk = ipk\n",
        "\n",
        "  def info_mahasiswa(self):\n",
        "    print(f\"Nama : {self.nama}\")\n",
        "    print(f\"NIM : {self.nim}\")\n",
        "    print(f\"IPK : {self.ipk}\")\n",
        "\n",
        "  def hitung_predikat(self):\n",
        "    if self.ipk >= 3.5:\n",
        "      print(\"Predikat : Cumlaude\")\n",
        "    elif self.ipk >= 3.0:\n",
        "      print(\"Predikat : Sangat Memuaskan\")\n",
        "    elif self.ipk >= 2.5:\n",
        "      print(\"Predikat : Memuaskan\")\n",
        "    else:\n",
        "      print(\"Predikat : Cukup\")\n",
        "\n",
        "# Child Class 1\n",
        "class MahasiswaSarjana(Mahasiswa):\n",
        "  def __init__(self, nama:str, nim:str, ipk:float, semester:int, sks_lulus:int):\n",
        "    super().__init__(nama,nim,ipk)\n",
        "    self.semester = semester\n",
        "    self.sks_lulus = sks_lulus\n",
        "\n",
        "  def info_mahasiswa(self): # Override dari Method Parent Class\n",
        "    super().info_mahasiswa()\n",
        "    print(f\"Semester = {self.semester}\")\n",
        "    print(f\"SKS Lulus = {self.sks_lulus}\")\n",
        "\n",
        "# Child Class 2\n",
        "class MahasiswaMagister(Mahasiswa):\n",
        "  def __init__(self, nama: str, nim: str, ipk: float, judul_tesis:str, nama_pembimbing:str):\n",
        "    super().__init__(nama, nim, ipk)\n",
        "    self.judul_tesis = judul_tesis\n",
        "    self.nama_pembimbing = nama_pembimbing\n",
        "\n",
        "  def info_mahasiswa(self): # Override dari Method Parent Class\n",
        "    super().info_mahasiswa()\n",
        "    print(f\"Judul Tesis = {self.judul_tesis}\")\n",
        "    print(f\"Nama Pembimbing = {self.nama_pembimbing}\")\n",
        "\n",
        "  def hitung_predikat(self): # Override dari  Method hitung predikat di parent class\n",
        "    if self.ipk >= 3.9:\n",
        "      print(\"Predikat : Cumlaude\")\n",
        "    elif self.ipk >= 3.7:\n",
        "      print(\"Predikat : Sangat Memuaskan\")\n",
        "    elif self.ipk >= 3:\n",
        "      print(\"Predikat : Memuaskan\")\n",
        "    else:\n",
        "      print(\"Tanpa Predikat\")\n",
        "\n",
        "# PROGRAM UTAMA\n",
        "if __name__ == '__main__':\n",
        "  mahasiswasarjana1 = MahasiswaSarjana(\"Rafif Ali\", \"4.33.24.0.22\", 3.4, 7, 120)\n",
        "  mahasiswamagister1 = MahasiswaMagister(\"Budi Santoso\", \"2.32.20.1.23\", 2.98, \"Implementasi OOP Pada Perangkat IOT\", \"Prof.Stella Cristie S.Kom,M.Kom\")\n",
        "\n",
        "  print(\"--- Info Mahasiswa Sarjana ---\")\n",
        "  mahasiswasarjana1.info_mahasiswa()\n",
        "  mahasiswasarjana1.hitung_predikat()\n",
        "  print(\"-\"*30 + \"\\n\")\n",
        "\n",
        "  print(\"--- Info Mahasiswa Magister ---\")\n",
        "  mahasiswamagister1.info_mahasiswa()\n",
        "  mahasiswamagister1.hitung_predikat()\n",
        "\n",
        "\n"
      ]
    }
  ]
}