{
  "nbformat": 4,
  "nbformat_minor": 0,
  "metadata": {
    "colab": {
      "provenance": [],
      "authorship_tag": "ABX9TyPuvBGVNKvFQu8VcpuTdRMF",
      "include_colab_link": true
    },
    "kernelspec": {
      "name": "python3",
      "display_name": "Python 3"
    },
    "language_info": {
      "name": "python"
    }
  },
  "cells": [
    {
      "cell_type": "markdown",
      "metadata": {
        "id": "view-in-github",
        "colab_type": "text"
      },
      "source": [
        "<a href=\"https://colab.research.google.com/github/rafif22-sys/2025_PBO_T1-1A/blob/main/Jobsheet03_Penugasan_PBO.ipynb\" target=\"_parent\"><img src=\"https://colab.research.google.com/assets/colab-badge.svg\" alt=\"Open In Colab\"/></a>"
      ]
    },
    {
      "cell_type": "code",
      "execution_count": 19,
      "metadata": {
        "id": "mQDugGQts2Kx",
        "outputId": "a6c7c6fe-1650-4343-a9fe-c55475683eac",
        "colab": {
          "base_uri": "https://localhost:8080/"
        }
      },
      "outputs": [
        {
          "output_type": "stream",
          "name": "stdout",
          "text": [
            "Nama : Rafif \n",
            "Nilai : 66 \n",
            "Grade : D \n",
            "\n",
            "Nilai Sedang Diganti...Berhasil!!!\n",
            "Nama : Rafif \n",
            "Nilai : 92 \n",
            "Grade : A \n",
            "\n",
            "=== Percobaan Mengganti Score dengan nilai invalid ===\n",
            "Mohon Maaf Nilai Yang Anda Masukkan Tidak Valid !\n",
            "Nilai Harus berkisar dari 0 sampai 100 \n",
            "\n",
            "Nama : Rafif \n",
            "Nilai : 92 \n",
            "Grade : A \n",
            "\n",
            "=== Menghapus Instance Objek ===\n",
            "Data Siswa dengan nama Rafif Sedang Dihapus...\n",
            "Data Siswa Sudah Dihapus\n"
          ]
        }
      ],
      "source": [
        "# Program Student Penugasan Jobsheet 3\n",
        "\n",
        "class Student:\n",
        "  def __init__(self, name:str, score:int):\n",
        "    self.__name  = name\n",
        "    self.__score = score\n",
        "    self.__getGrade()\n",
        "\n",
        "  @property\n",
        "  def name(self):\n",
        "    # Getter untuk mendapatkan Atribut Name\n",
        "    return self.__name\n",
        "\n",
        "  @property\n",
        "  def score(self):\n",
        "    # Getter untuk mendapatkan atribut score\n",
        "    if self.__score < 0 or self.__score > 100:\n",
        "      '''\n",
        "      validasi  untuk Nilai Score pada saat inisialisasi\n",
        "      jika tidak valid akan mereturn \"-\" untuk self.score\n",
        "      '''\n",
        "      return \"-\"\n",
        "\n",
        "    else:\n",
        "      return self.__score\n",
        "\n",
        "  @score.setter\n",
        "  def score(self, value):\n",
        "    if value < 0 or value > 100 : # Fungsi Validasi untuk mengganti nilai score\n",
        "      print(\"Mohon Maaf Nilai Yang Anda Masukkan Tidak Valid !\")\n",
        "      print(\"Nilai Harus berkisar dari 0 sampai 100 \\n\")\n",
        "\n",
        "    else:\n",
        "      print(\"Nilai Sedang Diganti...Berhasil!!!\")\n",
        "      self.__score = value\n",
        "      self.__getGrade()\n",
        "\n",
        "  def __getGrade(self):# Fungsi untuk memberikan grade pada nilai\n",
        "    if self.__score >= 90 and self.__score <=100:\n",
        "      self.__grade = \"A\"\n",
        "\n",
        "    elif self.__score >= 80 and self.__score <=  89:\n",
        "      self.__grade = \"B\"\n",
        "\n",
        "    elif self.__score >= 70 and self.__score <=  79:\n",
        "      self.__grade = \"C\"\n",
        "\n",
        "    elif self.__score >= 60 and self.__score <=  69:\n",
        "      self.__grade = \"D\"\n",
        "\n",
        "    elif self.__score < 0 or self.__score > 100:\n",
        "      self.__grade = \"-\"\n",
        "\n",
        "    else :\n",
        "      self.__grade = \"E\"\n",
        "\n",
        "  def show_info(self):\n",
        "    return f\"Nama : {self.__name} \\nNilai : {self.score} \\nGrade : {self.__grade} \\n\"\n",
        "\n",
        "  def __del__(self):\n",
        "    print(f\"Data Siswa dengan nama {self.name} Sedang Dihapus...\")\n",
        "\n",
        "def main():\n",
        "  student1 = Student(\"Rafif\", 66)\n",
        "  print(student1.show_info())\n",
        "\n",
        "  student1.score = 92 # Nilai Atribut score diganti\n",
        "  print(student1.show_info())\n",
        "\n",
        "  print(\"=== Percobaan Mengganti Score dengan nilai invalid ===\")\n",
        "  student1.score = 970 # Mencoba mengganti nilai score dengan nilai invalid\n",
        "  print(student1.show_info()) # self.score tidak akan berubah\n",
        "\n",
        "  print(\"=== Menghapus Instance Objek ===\")\n",
        "  del student1 # menghapus objek\n",
        "  print(\"Data Siswa Sudah Dihapus\")\n",
        "\n",
        "if __name__ == '__main__':\n",
        "  main()\n",
        "\n",
        "\n"
      ]
    }
  ]
}