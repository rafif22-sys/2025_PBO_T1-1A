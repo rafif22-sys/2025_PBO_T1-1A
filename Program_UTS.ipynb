{
  "nbformat": 4,
  "nbformat_minor": 0,
  "metadata": {
    "colab": {
      "provenance": [],
      "authorship_tag": "ABX9TyN2tnVY3a4XgtTA4hHkR4/3",
      "include_colab_link": true
    },
    "kernelspec": {
      "name": "python3",
      "display_name": "Python 3"
    },
    "language_info": {
      "name": "python"
    }
  },
  "cells": [
    {
      "cell_type": "markdown",
      "metadata": {
        "id": "view-in-github",
        "colab_type": "text"
      },
      "source": [
        "<a href=\"https://colab.research.google.com/github/rafif22-sys/2025_PBO_T1-1A/blob/main/Program_UTS.ipynb\" target=\"_parent\"><img src=\"https://colab.research.google.com/assets/colab-badge.svg\" alt=\"Open In Colab\"/></a>"
      ]
    },
    {
      "cell_type": "code",
      "execution_count": null,
      "metadata": {
        "colab": {
          "base_uri": "https://localhost:8080/"
        },
        "id": "nL7uPc404z2w",
        "outputId": "261770ce-455f-40b9-c673-145f4bfb1b47"
      },
      "outputs": [
        {
          "output_type": "stream",
          "name": "stdout",
          "text": [
            "\n",
            "Alat Elektronik Televisi Dinyalakan\n",
            "\n",
            "Ini Informasi Alat Elektronik Televisi dengan merk Polytron\n",
            "Merk: Polytron\n",
            "Model: LED\n",
            "Ukuran Layar : 20 inch\n",
            "\n",
            "Alat Elektronik Radio Dinyalakan\n",
            "\n",
            "Ini Informasi Alat Elektronik Radio dengan merk Suara Merdeka\n",
            "Merk: Suara Merdeka\n",
            "Model: Radio Tabung\n",
            "Frekuensi : 15.6 Mhz\n",
            "\n",
            "Mencoba Method Spesifik Pada setiap Objek\n",
            "TV menampilkan acara Channel 6\n",
            "Frekuensi Radio Baru : 200.5 Mhz\n",
            "\n",
            "Mematikan Alat\n",
            "Alat Elektronik Televisi Dimatikan\n",
            "Alat Elektronik Radio Dimatikan\n"
          ]
        }
      ],
      "source": [
        "# Parent Class\n",
        "class AlatElektronik:\n",
        "  def __init__(self, merk:str, model:str):\n",
        "    self.merk = merk\n",
        "    self.model = model\n",
        "    self.status_daya = False\n",
        "  def nyalakan(self):\n",
        "    if self.status_daya == False:\n",
        "      self.status_daya = True\n",
        "      print(f\"\\nAlat Elektronik {type(self).__name__} Dinyalakan\")\n",
        "    else:\n",
        "      print(\"Alat elektronik memang sudah menyala\")\n",
        "  def matikan(self):\n",
        "    if self.status_daya == True:\n",
        "      self.status_daya = False\n",
        "      print(f\"Alat Elektronik {type(self).__name__} Dimatikan\")\n",
        "\n",
        "    else:\n",
        "      print(\"Alat Elektronik memang sudah mati\")\n",
        "\n",
        "  def get_info(self):\n",
        "    print(f\"\\nIni Informasi Alat Elektronik {type(self).__name__} dengan merk {self.merk}\")\n",
        "    print(f\"Merk: {self.merk}\")\n",
        "    print(f\"Model: {self.model}\")\n",
        "\n",
        "class Televisi(AlatElektronik):\n",
        "  def __init__(self, merk:str, model:str, ukuran_layar:int):\n",
        "    super().__init__(merk,model)\n",
        "    self.ukuran_layar = ukuran_layar\n",
        "  def get_info(self):\n",
        "    super().get_info()\n",
        "    print(f\"Ukuran Layar : {self.ukuran_layar} inch\")\n",
        "  def ganti_channel(self, channel:int):\n",
        "    if self.status_daya == True:\n",
        "      print(f\"TV menampilkan acara Channel {channel}\")\n",
        "    else:\n",
        "      print(\"Maaf TV belum anda Nyalakan\")\n",
        "\n",
        "class Radio(AlatElektronik):\n",
        "  def __init__(self, merk:str, model:str, frekuensi:float):\n",
        "    super().__init__(merk,model)\n",
        "    self.frekuensi = frekuensi\n",
        "\n",
        "  def get_info(self):\n",
        "    super().get_info()\n",
        "    print(f\"Frekuensi : {self.frekuensi} Mhz\")\n",
        "\n",
        "  def set_frekuensi(self, newfrekuensi:float):\n",
        "    if self.status_daya == True:\n",
        "      self.frekuensi = newfrekuensi\n",
        "    else:\n",
        "      print(\"Maaf Radio Belum Dinyalakan\")\n",
        "\n",
        "if __name__ == '__main__':\n",
        "  tv1 = Televisi(\"Polytron\",\"LED\",20)\n",
        "  radio1 = Radio(\"Suara Merdeka\",\"Radio Tabung\",15.6)\n",
        "  # Penerapan Polimorfisme\n",
        "  alat_elektronik = [tv1,radio1]\n",
        "  for alat in alat_elektronik:\n",
        "    alat.nyalakan()\n",
        "    alat.get_info()\n",
        "\n",
        "  print(\"\\nMencoba Method Spesifik Pada setiap Objek\")\n",
        "  tv1.ganti_channel(6)\n",
        "  radio1.set_frekuensi(200.5)\n",
        "\n",
        "  print(f\"Frekuensi Radio Baru : {radio1.frekuensi} Mhz\")\n",
        "\n",
        "  print(\"\\nMematikan Alat\")\n",
        "  tv1.matikan()\n",
        "  radio1.matikan()\n",
        "\n",
        "\n"
      ]
    }
  ]
}