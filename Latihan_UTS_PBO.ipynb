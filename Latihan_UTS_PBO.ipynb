{
  "nbformat": 4,
  "nbformat_minor": 0,
  "metadata": {
    "colab": {
      "provenance": [],
      "authorship_tag": "ABX9TyPjrPegejV+aaytUxLztAYs",
      "include_colab_link": true
    },
    "kernelspec": {
      "name": "python3",
      "display_name": "Python 3"
    },
    "language_info": {
      "name": "python"
    }
  },
  "cells": [
    {
      "cell_type": "markdown",
      "metadata": {
        "id": "view-in-github",
        "colab_type": "text"
      },
      "source": [
        "<a href=\"https://colab.research.google.com/github/rafif22-sys/2025_PBO_T1-1A/blob/main/Latihan_UTS_PBO.ipynb\" target=\"_parent\"><img src=\"https://colab.research.google.com/assets/colab-badge.svg\" alt=\"Open In Colab\"/></a>"
      ]
    },
    {
      "cell_type": "code",
      "execution_count": 36,
      "metadata": {
        "id": "Vzkpxp2kN7lp",
        "outputId": "b0e817a9-9f19-4c43-a0a1-343776da8f37",
        "colab": {
          "base_uri": "https://localhost:8080/"
        }
      },
      "outputs": [
        {
          "output_type": "stream",
          "name": "stdout",
          "text": [
            "Nama : Rafif Ali\n",
            "Gaji : 7000000\n",
            "\n",
            " Berikut Data Manajemen\n",
            "Nama : Aisy\n",
            "Gaji : 3000000\n",
            "Divisi = Adminitrasi\n",
            "\n",
            " Berikut Data Programmer\n",
            "Nama : Alfin\n",
            "Gaji : 9500000\n",
            "Bahasa = Python\n"
          ]
        }
      ],
      "source": [
        "from os import sched_rr_get_interval\n",
        "# Program Karyawan\n",
        "class Karyawan: # Class Parent\n",
        "  def __init__(self, nama, gaji):\n",
        "    self.__nama = nama\n",
        "    self.__gaji = gaji\n",
        "  @property\n",
        "  def nama(self):\n",
        "    return self.__nama\n",
        "  @nama.setter\n",
        "  def nama(self, newname:str):\n",
        "    self.__nama = newname\n",
        "\n",
        "  @property\n",
        "  def gaji(self):\n",
        "    return self.__gaji\n",
        "  @gaji.setter\n",
        "  def gaji(self, newgaji:int):\n",
        "    if newgaji > 0:\n",
        "      self.__gaji = newgaji\n",
        "    else:\n",
        "      print(\"Maaf Gaji Tidak Boleh 0 atau Minus\")\n",
        "\n",
        "  def bonus(self, *args):\n",
        "    if len(args) == 1:\n",
        "      self.__gaji += args[0]\n",
        "    elif len(args) == 2:\n",
        "      self.__gaji += ((self.__gaji * args[0]/100) + args[1])\n",
        "    else:\n",
        "      print(\"Format Bonus Tidak Valid\")\n",
        "\n",
        "  #Method Untuk Menampilkan Info\n",
        "  def tampilkan_info(self):\n",
        "    print(f\"Nama : {self.__nama}\")\n",
        "    print(f\"Gaji : {self.__gaji}\")\n",
        "\n",
        "\n",
        "\n",
        "class Manajer(Karyawan):# Child Class dari Class Karyawan\n",
        "  def __init__(self, nama, gaji, divisi):\n",
        "    super().__init__(nama,gaji) # Super Juga Mewarisi Property dan setter\n",
        "    self.divisi = divisi\n",
        "\n",
        "  def tampilkan_info(self):\n",
        "    print(\"\\n Berikut Data Manajemen\")\n",
        "    super().tampilkan_info()\n",
        "    print(f\"Divisi = {self.divisi}\")\n",
        "\n",
        "class Programmer(Karyawan):# Child Class Lagi dari Karyawan\n",
        "  def __init__(self, nama, gaji, bahasa_pemograman):\n",
        "    super().__init__(nama, gaji)\n",
        "    self.bahasa_pemograman = bahasa_pemograman\n",
        "  def tampilkan_info(self):\n",
        "    print(\"\\n Berikut Data Programmer\")\n",
        "    super().tampilkan_info()\n",
        "    print(f\"Bahasa = {self.bahasa_pemograman}\")\n",
        "\n",
        "def cetak_info_karyawan(kumpulan_karyawan): # Penerapan Polimorfisme\n",
        "  for karyawan in kumpulan_karyawan:\n",
        "    karyawan.tampilkan_info()\n",
        "\n",
        "if __name__ == '__main__':\n",
        "  karyawan1 = Karyawan(\"Rafif Ali\",7000000)\n",
        "  manajer1 = Manajer(\"Aisy\",3000000,\"Adminitrasi\")\n",
        "  programmer1 = Programmer(\"Alfin\", 9500000, \"Python\")\n",
        "\n",
        "  kumpulan_karyawan = [karyawan1, manajer1, programmer1]\n",
        "  cetak_info_karyawan(kumpulan_karyawan)\n",
        "\n",
        "\n",
        "\n"
      ]
    }
  ]
}