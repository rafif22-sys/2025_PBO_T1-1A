{
  "nbformat": 4,
  "nbformat_minor": 0,
  "metadata": {
    "colab": {
      "provenance": [],
      "authorship_tag": "ABX9TyMYGMx+vmSYwnctWZ+j8CnX",
      "include_colab_link": true
    },
    "kernelspec": {
      "name": "python3",
      "display_name": "Python 3"
    },
    "language_info": {
      "name": "python"
    }
  },
  "cells": [
    {
      "cell_type": "markdown",
      "metadata": {
        "id": "view-in-github",
        "colab_type": "text"
      },
      "source": [
        "<a href=\"https://colab.research.google.com/github/rafif22-sys/2025_PBO_T1-1A/blob/main/Jobsheet4_PBO_RafifAli.ipynb\" target=\"_parent\"><img src=\"https://colab.research.google.com/assets/colab-badge.svg\" alt=\"Open In Colab\"/></a>"
      ]
    },
    {
      "cell_type": "code",
      "execution_count": null,
      "metadata": {
        "id": "eR9NyyHk1aM5",
        "outputId": "5fdbe769-68f3-4c83-80d0-e6caa1eaf390",
        "colab": {
          "base_uri": "https://localhost:8080/"
        }
      },
      "outputs": [
        {
          "output_type": "stream",
          "name": "stdout",
          "text": [
            "Ini adalah mobil Tesla Model S berwarna Merah\n",
            "Mesin Kendaraan =  Tesla Model S dinyalakan\n",
            "Merk Mobil : Tesla Model S\n"
          ]
        }
      ],
      "source": [
        "# PRAKTIKUM 1\n",
        "\n",
        "# Kelas Induk\n",
        "class Kendaraan:\n",
        "  def __init__(self,merk):\n",
        "    self.merk = merk\n",
        "\n",
        "  def mulai_mesin(self):\n",
        "    print(f\"Mesin Kendaraan =  {self.merk} dinyalakan\")\n",
        "\n",
        "# Kelas Anak (Mewarisi dari kendaraan)\n",
        "class Mobil(Kendaraan):\n",
        "  def __init__(self, merk, warna):\n",
        "    # Memanggil __init__ kelas induk\n",
        "    self.merk = merk # set merk secara manual\n",
        "    self.warna = warna\n",
        "\n",
        "  def info_mobil(self):\n",
        "    print(f\"Ini adalah mobil {self.merk} berwarna {self.warna}\")\n",
        "\n",
        "# --- Kode Utama ---\n",
        "if __name__ == '__main__':\n",
        "  mobil_tesla = Mobil(\"Tesla Model S\", \"Merah\")\n",
        "\n",
        "  # Memanggil Metode dari Kelas anak\n",
        "  mobil_tesla.info_mobil()\n",
        "\n",
        "  #memanggil metode yang diwarisi dari kelas induk\n",
        "  mobil_tesla.mulai_mesin()\n",
        "\n",
        "  # Mengakses atribut yang diwarisi (dan di set di anak)\n",
        "  print(f\"Merk Mobil : {mobil_tesla.merk}\")"
      ]
    },
    {
      "cell_type": "code",
      "source": [
        "# PRAKTIKUM 2\n",
        "\n",
        "class Person:\n",
        "  def __init__(self, nama, usia):\n",
        "    print(f\"(Memanggil __init__ Person untuk '{nama}')\")\n",
        "    self.nama = nama\n",
        "    self.usia = usia\n",
        "\n",
        "  def perkenalkan_diri(self):\n",
        "    print(f\"Halo, nama saya {self.nama}, usia saya {self.usia} tahun\")\n",
        "\n",
        "# Kelas Anak (Mewarisi dari Person)\n",
        "\n",
        "class Student(Person):\n",
        "  def __init__(self, nama, usia, student_id, jurusan):\n",
        "    print(f\"(Memanggil __init__ Student untuk '{nama}')\")\n",
        "    # Memanggil __init__ dari kelas Person untuk inisialisasi nama dan usia\n",
        "    super().__init__(nama, usia)\n",
        "\n",
        "    # Menambahkan atribut khusus student\n",
        "    self.student_id = student_id\n",
        "    self.jurusan = jurusan\n",
        "    print(f\"(Inisialisasi atribut Student selsesai untuk '{nama}')\")\n",
        "\n",
        "  def info_akademik(self):\n",
        "    print(f\"ID Mahasiswa : {self.student_id}\")\n",
        "    print(f\"Jurusan : {self.jurusan}\")\n",
        "\n",
        "  # Override perkenalkan diri untuk menambahkan info studend\n",
        "  def perkenalkan_diri(self):\n",
        "    super().perkenalkan_diri() # Panggil Versi Person\n",
        "\n",
        "    print(f\"Saya adalah mahasiswa dengan ID {self.student_id}, jurusan : {self.jurusan}.\")\n",
        "\n",
        "\n",
        "# --- KOde Utama ---\n",
        "if __name__ == '__main__':\n",
        "  # Membuat Objek Person\n",
        "  dosen = Person(\"Pak Anton\",45)\n",
        "  print(\"-\"*20)\n",
        "  dosen.perkenalkan_diri()\n",
        "  print(\"\\n\"+\"=\"*30+\"\\n\")\n",
        "\n",
        "  # Membuat Objek Student\n",
        "  mahasiswa = Student(\"Dewi\",20,\"MHS001\",\"Teknik Komputer\")\n",
        "  print(\"-\"*20)\n",
        "  mahasiswa.perkenalkan_diri() # Panggil Override di student\n",
        "  print(\"-\"*20)\n",
        "  mahasiswa.info_akademik() # Panggil Metode Khusus Student\n",
        "\n",
        "\n",
        "  # Cek atribut yang diwarisi\n",
        "  print(f\"\\n Usia mahasiswa {mahasiswa.nama} : {mahasiswa.usia}\") # usia diwarisi dari person"
      ],
      "metadata": {
        "id": "ZAm9MXHx8JEC",
        "outputId": "0fd6b597-39ed-4307-e5fa-18caa2e584fc",
        "colab": {
          "base_uri": "https://localhost:8080/"
        }
      },
      "execution_count": 10,
      "outputs": [
        {
          "output_type": "stream",
          "name": "stdout",
          "text": [
            "(Memanggil __init__ Person untuk 'Pak Anton')\n",
            "--------------------\n",
            "Halo, nama saya Pak Anton, usia saya 45 tahun\n",
            "\n",
            "==============================\n",
            "\n",
            "(Memanggil __init__ Student untuk 'Dewi')\n",
            "(Memanggil __init__ Person untuk 'Dewi')\n",
            "(Inisialisasi atribut Student selsesai untuk 'Dewi')\n",
            "--------------------\n",
            "Halo, nama saya Dewi, usia saya 20 tahun\n",
            "Saya adalah mahasiswa dengan ID MHS001, jurusan : Teknik Komputer.\n",
            "--------------------\n",
            "ID Mahasiswa : MHS001\n",
            "Jurusan : Teknik Komputer\n",
            "\n",
            " Usia mahasiswa Dewi : 20\n"
          ]
        }
      ]
    },
    {
      "cell_type": "code",
      "source": [
        "#Praktikum 3\n",
        "# Kelas Induk\n",
        "\n",
        "class Hewan :\n",
        "  def __init__(self, nama):\n",
        "    self.nama = nama\n",
        "\n",
        "  def bersuara(self):\n",
        "    print(f\"{self.nama} mengeluarkan suara generik.\")\n",
        "\n",
        "  def tampilkan_info(self):\n",
        "    print(f\"Ini adalah hewan bernama {self.nama}\")\n",
        "\n",
        "# Kelas Anak\n",
        "class Kucing(Hewan):\n",
        "  def __init__(self, nama, ras):\n",
        "    super().__init__(nama)\n",
        "    self.ras = ras\n",
        "\n",
        "  # Method Overriding untuk bersuara\n",
        "  def bersuara(self):\n",
        "    print(f\"{self.nama} (Kucing) mengeong : Meow!\")\n",
        "\n",
        "  # Method Overrriding untuk tampilkan info, memanggil versi induk\n",
        "  def tampilkan_info(self):\n",
        "    super().tampilkan_info() # Panggil  Implementasi dari Hewan\n",
        "    print(f\"Ini adalah kucing ras {self.ras}\") # Tambahkan Info Spesifik\n",
        "\n",
        "# ---- KODE UTAMA ---\n",
        "if __name__ == '__main__':\n",
        "  hewan_umum = Hewan(\"Makhluk\")\n",
        "  kucing_persia = Kucing(\"Puspus\", \"Persia\")\n",
        "\n",
        "  print(\"Info Hewan Umum :\")\n",
        "  hewan_umum.tampilkan_info()\n",
        "  hewan_umum.bersuara()\n",
        "  print(\"-\"*20)\n",
        "\n",
        "  print(\"Info Kucing Persia:\")\n",
        "  kucing_persia.tampilkan_info() # Akan Memanggil Versi Kucing\n",
        "  kucing_persia.bersuara() # Akan Memanggil Versi  Kucing"
      ],
      "metadata": {
        "id": "jKFC0D6CofiP",
        "outputId": "30956624-3b40-454a-a122-a3b723bb2e73",
        "colab": {
          "base_uri": "https://localhost:8080/"
        }
      },
      "execution_count": 11,
      "outputs": [
        {
          "output_type": "stream",
          "name": "stdout",
          "text": [
            "Info Hewan Umum :\n",
            "Ini adalah hewan bernama Makhluk\n",
            "Makhluk mengeluarkan suara generik.\n",
            "--------------------\n",
            "Info Kucing Persia:\n",
            "Ini adalah hewan bernama Puspus\n",
            "Ini adalah kucing ras Persia\n",
            "Puspus (Kucing) mengeong : Meow!\n"
          ]
        }
      ]
    }
  ]
}