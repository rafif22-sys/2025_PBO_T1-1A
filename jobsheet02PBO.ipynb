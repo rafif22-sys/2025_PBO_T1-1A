{
  "nbformat": 4,
  "nbformat_minor": 0,
  "metadata": {
    "colab": {
      "provenance": [],
      "authorship_tag": "ABX9TyMQmvJs8cgKT+BQMK+Ht2F0",
      "include_colab_link": true
    },
    "kernelspec": {
      "name": "python3",
      "display_name": "Python 3"
    },
    "language_info": {
      "name": "python"
    }
  },
  "cells": [
    {
      "cell_type": "markdown",
      "metadata": {
        "id": "view-in-github",
        "colab_type": "text"
      },
      "source": [
        "<a href=\"https://colab.research.google.com/github/rafif22-sys/2025_PBO_T1-1A/blob/main/jobsheet02PBO.ipynb\" target=\"_parent\"><img src=\"https://colab.research.google.com/assets/colab-badge.svg\" alt=\"Open In Colab\"/></a>"
      ]
    },
    {
      "cell_type": "code",
      "execution_count": 33,
      "metadata": {
        "id": "V-5DGd3SirXT",
        "outputId": "a4e0f9bc-d372-4e76-e261-7be61d72e68b",
        "colab": {
          "base_uri": "https://localhost:8080/"
        }
      },
      "outputs": [
        {
          "output_type": "stream",
          "name": "stdout",
          "text": [
            "=== Fungsi Print ===\n",
            "Ini adalah contoh fungsi built-in\n",
            "\n",
            "=== Fungsi Len ===\n",
            "Panjang kata 'Pemrograman' adalah: 11\n",
            "\n",
            "=== Fungsi Max ===\n",
            "Nilai maksimum dalam daftar [10, 5, 30, 40, 25] adalah: 40\n",
            "\n",
            "=== Fungsi User-Defined ===\n",
            "Kuadrat dari 3 adalah: 9\n",
            "\n",
            "=== Fungsi Beberapa Parameter ===\n",
            "Hasil Dari Luas Persegi Panjang Adalah : 12\n",
            "\n",
            "=== Fungsi Beberapa Jenis Parameter ===\n",
            "Nama: Rafif, Umur: 19, IPK: 3.98\n",
            "\n",
            "=== Fungsi Tanpa return Value ===\n",
            "Halo, Rafif! Selamat datang di dunia Python.\n",
            "\n",
            "=== Fungsi Dengan Return Value ===\n",
            "Keliling dari persegi panjang 6 meter adalah 24\n",
            "\n",
            "=== Pemanggilan Fungsi Satu Parameter ===\n",
            "Kuadrat dari 5 adalah: 25\n",
            "\n",
            "=== Pemanggilan Fungsi Beberapa Parameter ===\n",
            "Luas persegi panjang: 50\n",
            "\n",
            "=== Pemanggilan Fungsi Beberapa Tipe Parameter ===\n",
            "Nama: Budi, Umur: 22, IPK: 3.8\n",
            "\n",
            "=== Pemanggilan Fungsi Tanpa Return Value ===\n",
            "Halo, Andi! Selamat datang di dunia Python.\n",
            "\n",
            "=== Pemanggilan Fungsi Dengan Return Value ===\n",
            "Keliling persegi dengan sisi 5 adalah: 20\n"
          ]
        }
      ],
      "source": [
        "# PRAKTIKUM 1\n",
        "# Fungsi Built-in\n",
        "# Fungsi print() adalah contoh fungsi built-in untuk mencetak output\n",
        "print(\"=== Fungsi Print ===\")\n",
        "print(\"Ini adalah contoh fungsi built-in\")\n",
        "\n",
        "# Fungsi len() adalah contoh fungsi built-in untuk menghitung panjang suatu objek\n",
        "print(\"\\n=== Fungsi Len ===\")\n",
        "kata = \"Pemrograman\"\n",
        "panjang_kata = len(kata)\n",
        "print(f\"Panjang kata '{kata}' adalah: {panjang_kata}\")\n",
        "\n",
        "# Fungsi max() adalah contoh fungsi built-in untuk mencari nilai maksimum dari sebuah daftar\n",
        "print(\"\\n=== Fungsi Max ===\")\n",
        "angka = [10, 5, 30, 40, 25]\n",
        "nilai_max = max(angka)\n",
        "print(f\"Nilai maksimum dalam daftar {angka} adalah: {nilai_max}\")\n",
        "\n",
        "# Fungsi User-Defined\n",
        "# Fungsi dengan satu parameter (Menerima satu nilai input)\n",
        "print(\"\\n=== Fungsi User-Defined ===\")\n",
        "def cetak_kuadrat(angka):\n",
        "  print(f\"Kuadrat dari {angka} adalah: {angka ** 2}\")\n",
        "cetak_kuadrat(3)\n",
        "\n",
        "# Fungsi dengan beberapa parameter (Menerima lebih dari satu nilai input)\n",
        "print(\"\\n=== Fungsi Beberapa Parameter ===\")\n",
        "def hitung_luas_persegi_panjang(panjang, lebar):\n",
        "  return panjang * lebar\n",
        "print(f\"Hasil Dari Luas Persegi Panjang Adalah : {hitung_luas_persegi_panjang(3,4)}\")\n",
        "\n",
        "# Fungsi dengan beberapa tipe parameter (Menerima berbagai jenis data)\n",
        "print(\"\\n=== Fungsi Beberapa Jenis Parameter ===\")\n",
        "def info_mahasiswa(nama, umur, ipk):\n",
        "  # Mencetak informasi mahasiswa\n",
        "  print(f\"Nama: {nama}, Umur: {umur}, IPK: {ipk}\")\n",
        "info_mahasiswa(\"Rafif\",19,3.98)\n",
        "\n",
        "# Fungsi tanpa return value (Non-return value)\n",
        "print(\"\\n=== Fungsi Tanpa return Value ===\")\n",
        "def sapa_pengguna(nama):\n",
        "# Fungsi ini hanya mencetak sapaan tanpa mengembalikan nilai\n",
        "  print(f\"Halo, {nama}! Selamat datang di dunia Python.\")\n",
        "sapa_pengguna(\"Rafif\")\n",
        "\n",
        "# Fungsi dengan return value\n",
        "print(\"\\n=== Fungsi Dengan Return Value ===\")\n",
        "def hitung_keliling_persegi(sisi):\n",
        "# Mengembalikan keliling persegi\n",
        "  return 4 * sisi\n",
        "print(f\"Keliling dari persegi panjang 6 meter adalah {hitung_keliling_persegi(6)}\")\n",
        "\n",
        "# Pemanggilan fungsi dengan satu parameter\n",
        "print(\"\\n=== Pemanggilan Fungsi Satu Parameter ===\")\n",
        "cetak_kuadrat(5)\n",
        "\n",
        "# Pemanggilan fungsi dengan beberapa parameter\n",
        "print(\"\\n=== Pemanggilan Fungsi Beberapa Parameter ===\")\n",
        "luas = hitung_luas_persegi_panjang(10, 5)\n",
        "print(f\"Luas persegi panjang: {luas}\")\n",
        "\n",
        "# Pemanggilan fungsi dengan beberapa tipe parameter\n",
        "print(\"\\n=== Pemanggilan Fungsi Beberapa Tipe Parameter ===\")\n",
        "info_mahasiswa(\"Budi\", 22, 3.8)\n",
        "\n",
        "# Pemanggilan fungsi tanpa return value\n",
        "print(\"\\n=== Pemanggilan Fungsi Tanpa Return Value ===\")\n",
        "sapa_pengguna(\"Andi\")\n",
        "\n",
        "# Pemanggilan fungsi dengan return value\n",
        "print(\"\\n=== Pemanggilan Fungsi Dengan Return Value ===\")\n",
        "keliling = hitung_keliling_persegi(5)\n",
        "print(f\"Keliling persegi dengan sisi 5 adalah: {keliling}\")\n",
        "\n",
        "\n"
      ]
    },
    {
      "cell_type": "code",
      "source": [
        "# PRAKTIKUM 2\n",
        "# File utama main.py yang mengimpor modul geometri.py\n",
        "\n",
        "# Mengimpor modul geometri\n",
        "import geometri\n",
        "\n",
        "def main():\n",
        "  # Menggunakan fungsi dari modul geometri\n",
        "  luas_persegi = geometri.hitung_luas_persegi(5)\n",
        "  print(f\"Luas persegi dengan sisi 5 adalah: {luas_persegi}\")\n",
        "\n",
        "  luas_persegi_panjang = geometri.hitung_luas_persegi_panjang(10, 5)\n",
        "  print(f\"Luas persegi panjang dengan panjang 10 dan lebar 5 adalah: {luas_persegi_panjang}\")\n",
        "\n",
        "  luas_lingkaran = geometri.hitung_luas_lingkaran(7)\n",
        "  print(f\"Luas lingkaran dengan jari-jari 7 adalah: {luas_lingkaran}\")\n",
        "\n",
        "if __name__ == \"__main__\":\n",
        "  main()\n",
        "\n"
      ],
      "metadata": {
        "id": "JCtYknj1rW_i",
        "outputId": "f9c29ac2-3c8c-4a76-eb08-03c77f8ce9ab",
        "colab": {
          "base_uri": "https://localhost:8080/"
        }
      },
      "execution_count": 59,
      "outputs": [
        {
          "output_type": "stream",
          "name": "stdout",
          "text": [
            "Luas persegi dengan sisi 5 adalah: 25\n",
            "Luas persegi panjang dengan panjang 10 dan lebar 5 adalah: 50\n",
            "Luas lingkaran dengan jari-jari 7 adalah: 153.86\n"
          ]
        }
      ]
    },
    {
      "cell_type": "code",
      "source": [
        "# PRAKTIKUM 3 Class Buku\n",
        "# Kelas Buku untuk merepresentasikan buku di perpustakaan\n",
        "class Buku:\n",
        "     def __init__(self, judul, pengarang, tahun_terbit):\n",
        "         self.judul = judul\n",
        "         self.pengarang = pengarang\n",
        "         self.tahun_terbit = tahun_terbit\n",
        "         self.status = \"Tersedia\"  # Status buku, default adalah Tersedia 08:\n",
        "     def tampilkan_info(self):\n",
        "         print(f\"Judul: {self.judul}\")\n",
        "         print(f\"Pengarang: {self.pengarang}\")\n",
        "         print(f\"Tahun Terbit: {self.tahun_terbit}\")\n",
        "         print(f\"Status: {self.status}\")\n",
        "\n",
        "     def pinjam(self):\n",
        "         if self.status == \"Tersedia\":\n",
        "             self.status = \"Dipinjam\"\n",
        "             print(f\"Buku '{self.judul}' telah dipinjam.\")\n",
        "         else:\n",
        "             print(f\"Buku '{self.judul}' sedang dipinjam.\")\n",
        "\n",
        "     def kembalikan(self):\n",
        "         if self.status == \"Dipinjam\":\n",
        "             self.status = \"Tersedia\"\n",
        "             print(f\"Buku '{self.judul}' telah dikembalikan.\")\n",
        "         else:\n",
        "             print(f\"Buku '{self.judul}' tidak sedang dipinjam.\")\n",
        "\n",
        " # Membuat objek dari kelas Buku\n",
        "buku1 = Buku(\"Pemrograman Python\", \"John Doe\", 2021)\n",
        "buku2 = Buku(\"Data Science untuk Pemula\", \"Jane Smith\", 2020)\n",
        "\n",
        "# Menggunakan metode objek Buku\n",
        "print(\"===Menggunakan Objek Baru===\")\n",
        "buku1.tampilkan_info()\n",
        "buku2.pinjam()\n",
        "\n",
        "# Mengubah status buku dan menampilkan informasi\n",
        "print(\"\\n===Mengubah Status Buku dan Menampilkan Informasi===\")\n",
        "buku2.kembalikan()\n",
        "buku1.pinjam()\n",
        "buku1.tampilkan_info()\n",
        "\n"
      ],
      "metadata": {
        "id": "FDP8tMYHtsih",
        "outputId": "f2905a9a-b8ef-4fc2-8ed8-38b5df92973c",
        "colab": {
          "base_uri": "https://localhost:8080/"
        }
      },
      "execution_count": 35,
      "outputs": [
        {
          "output_type": "stream",
          "name": "stdout",
          "text": [
            "===Menggunakan Objek Baru===\n",
            "Judul: Pemrograman Python\n",
            "Pengarang: John Doe\n",
            "Tahun Terbit: 2021\n",
            "Status: Tersedia\n",
            "Buku 'Data Science untuk Pemula' telah dipinjam.\n",
            "\n",
            "===Mengubah Status Buku dan Menampilkan Informasi===\n",
            "Buku 'Data Science untuk Pemula' telah dikembalikan.\n",
            "Buku 'Pemrograman Python' telah dipinjam.\n",
            "Judul: Pemrograman Python\n",
            "Pengarang: John Doe\n",
            "Tahun Terbit: 2021\n",
            "Status: Dipinjam\n"
          ]
        }
      ]
    },
    {
      "cell_type": "code",
      "source": [
        "# PRAKTIKUM 3 CLASS Mahasiswa\n",
        "# Kelas Mahasiswa untuk merepresentasikan Mahasiswa dalam kelas\n",
        "\n",
        "# Definisi kelas\n",
        "class Mahasiswa:\n",
        "     # Konstruktor (__init__) untuk menginisialisasi atribut objek\n",
        "    def __init__(self, nama, nim, umur):\n",
        "         self.nama = nama  # Atribut objek nama\n",
        "         self.nim = nim    # Atribut objek nim\n",
        "         self.umur = umur  # Atribut objek umur\n",
        "\n",
        "     # Metode untuk menampilkan informasi mahasiswa\n",
        "    def tampilkan_info(self):\n",
        "         print(f\"Nama: {self.nama}\")\n",
        "         print(f\"NIM: {self.nim}\")\n",
        "         print(f\"Umur: {self.umur} tahun\")\n",
        "\n",
        "     # Metode untuk merubah umur mahasiswa\n",
        "    def ubah_umur(self, umur_baru):\n",
        "         self.umur = umur_baru\n",
        "\n",
        " # Membuat objek (instance) dari kelas Mahasiswa\n",
        "mahasiswa1 = Mahasiswa(\"Andi\", \"12345\", 20)\n",
        "mahasiswa2 = Mahasiswa(\"Budi\", \"67890\", 22)\n",
        "\n",
        " # Menggunakan metode dari kelas Mahasiswa\n",
        "mahasiswa1.tampilkan_info()\n",
        "print()  # Baris kosong 70: mahasiswa2.tampilkan_info()\n",
        "\n",
        " # Mengubah umur mahasiswa1 menggunakan metode ubah_umur\n",
        "mahasiswa1.ubah_umur(21)\n",
        "\n",
        " # Menampilkan info mahasiswa setelah umur diubah\n",
        "print(\"\\nSetelah mengubah umur mahasiswa1:\")\n",
        "mahasiswa1.tampilkan_info()\n"
      ],
      "metadata": {
        "id": "uhFRF0QEAfv9",
        "outputId": "f8e948bc-7d06-4a15-a690-ec41878f09ce",
        "colab": {
          "base_uri": "https://localhost:8080/"
        }
      },
      "execution_count": 46,
      "outputs": [
        {
          "output_type": "stream",
          "name": "stdout",
          "text": [
            "Nama: Andi\n",
            "NIM: 12345\n",
            "Umur: 20 tahun\n",
            "\n",
            "\n",
            "Setelah mengubah umur mahasiswa1:\n",
            "Nama: Andi\n",
            "NIM: 12345\n",
            "Umur: 21 tahun\n"
          ]
        }
      ]
    },
    {
      "cell_type": "code",
      "source": [
        "# PRAKTIKUM 4\n",
        "# Kelas untuk menjelaskan atribut dan metode dalam kelas\n",
        "class Mobil:\n",
        "     def __init__(self, merk, warna, tahun, harga):\n",
        "            # Atribut yang dimiliki oleh objek Mobil\n",
        "         self.merk = merk\n",
        "         self.warna = warna\n",
        "         self.tahun = tahun\n",
        "         self.harga = harga\n",
        "\n",
        "    # Fungsi tanpa return value, hanya mencetak informasi\n",
        "     def tampilkan_info(self):\n",
        "         print(f\"Mobil {self.merk} berwarna {self.warna}, tahun {self.tahun}, harga: Rp {self.harga}\")\n",
        "\n",
        "     # Fungsi dengan satu parameter 15:\n",
        "     def diskon(self, persen_diskon):\n",
        "         # Menghitung harga setelah diskon\n",
        "         diskon_harga = self.harga * (persen_diskon / 100)\n",
        "         harga_setelah_diskon = self.harga - diskon_harga\n",
        "         print(f\"Harga setelah diskon {persen_diskon}%: Rp {harga_setelah_diskon}\")\n",
        "         # Tidak mengembalikan nilai, hanya mencetak harga setelah diskon\n",
        "     # Fungsi dengan return value, menghitung usia mobil berdasarkan tahun\n",
        "     def hitung_usia(self, tahun_sekarang):\n",
        "         usia = tahun_sekarang - self.tahun\n",
        "         return usia\n",
        "\n",
        "     # Fungsi dengan beberapa parameter\n",
        "     def perbarui_harga(self, harga_baru, tahun_baru):\n",
        "         self.harga = harga_baru\n",
        "         self.tahun = tahun_baru\n",
        "         print(f\"Harga dan tahun mobil {self.merk} diperbarui menjadi Rp {self.harga} dan tahun {self.tahun}\")\n",
        "\n",
        " # Membuat objek mobil\n",
        "mobil1 = Mobil(\"Toyota\", \"Hitam\", 2015, 300000000)\n",
        "mobil2 = Mobil(\"Honda\", \"Merah\", 2018, 250000000)\n",
        "\n",
        "# Menggunakan metode tanpa return value\n",
        "print(\"=== Menampilkan Info Mobil ===\")\n",
        "mobil1.tampilkan_info()\n",
        "mobil2.tampilkan_info()\n",
        "\n",
        "# Menggunakan metode dengan satu parameter (diskon)\n",
        "print(\"\\n=== Menggunakan Metode Diskon ===\")\n",
        "mobil1.diskon(10)\n",
        "mobil2.diskon(15)\n",
        "\n",
        "# Menggunakan metode dengan return value (hitung usia mobil)\n",
        "print(\"\\n=== Menggunakan Metode Hitung Usia Mobil ===\")\n",
        "usia_mobil1 = mobil1.hitung_usia(2025)\n",
        "usia_mobil2 = mobil2.hitung_usia(2025)\n",
        "print(f\"Usia mobil1 pada tahun 2025: {usia_mobil1} tahun\")\n",
        "print(f\"Usia mobil2 pada tahun 2025: {usia_mobil2} tahun\")\n",
        "\n",
        "# Menggunakan metode dengan beberapa parameter (perbarui harga dan tahun)\n",
        "print(\"\\n=== Menggunakan Metode Perbarui Harga dan Tahun ===\")\n",
        "mobil1.perbarui_harga(280000000, 2022)\n",
        "mobil2.perbarui_harga(240000000, 2021)\n"
      ],
      "metadata": {
        "id": "V6q3A-NgBv2u",
        "outputId": "a6e2e069-4fee-47cb-d197-87e6c294619c",
        "colab": {
          "base_uri": "https://localhost:8080/"
        }
      },
      "execution_count": 48,
      "outputs": [
        {
          "output_type": "stream",
          "name": "stdout",
          "text": [
            "=== Menampilkan Info Mobil ===\n",
            "Mobil Toyota berwarna Hitam, tahun 2015, harga: Rp 300000000\n",
            "Mobil Honda berwarna Merah, tahun 2018, harga: Rp 250000000\n",
            "\n",
            "=== Menggunakan Metode Diskon ===\n",
            "Harga setelah diskon 10%: Rp 270000000.0\n",
            "Harga setelah diskon 15%: Rp 212500000.0\n",
            "\n",
            "=== Menggunakan Metode Hitung Usia Mobil ===\n",
            "Usia mobil1 pada tahun 2025: 10 tahun\n",
            "Usia mobil2 pada tahun 2025: 7 tahun\n",
            "\n",
            "=== Menggunakan Metode Perbarui Harga dan Tahun ===\n",
            "Harga dan tahun mobil Toyota diperbarui menjadi Rp 280000000 dan tahun 2022\n",
            "Harga dan tahun mobil Honda diperbarui menjadi Rp 240000000 dan tahun 2021\n"
          ]
        }
      ]
    }
  ]
}