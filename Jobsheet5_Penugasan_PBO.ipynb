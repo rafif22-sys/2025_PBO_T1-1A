{
  "nbformat": 4,
  "nbformat_minor": 0,
  "metadata": {
    "colab": {
      "provenance": [],
      "authorship_tag": "ABX9TyOBlQDcFJKUeheSIrqKo9i1",
      "include_colab_link": true
    },
    "kernelspec": {
      "name": "python3",
      "display_name": "Python 3"
    },
    "language_info": {
      "name": "python"
    }
  },
  "cells": [
    {
      "cell_type": "markdown",
      "metadata": {
        "id": "view-in-github",
        "colab_type": "text"
      },
      "source": [
        "<a href=\"https://colab.research.google.com/github/rafif22-sys/2025_PBO_T1-1A/blob/main/Jobsheet5_Penugasan_PBO.ipynb\" target=\"_parent\"><img src=\"https://colab.research.google.com/assets/colab-badge.svg\" alt=\"Open In Colab\"/></a>"
      ]
    },
    {
      "cell_type": "code",
      "execution_count": 19,
      "metadata": {
        "id": "pBKDF4b_PTih",
        "outputId": "d6036817-f424-4a6d-91c3-e07ef8416dfb",
        "colab": {
          "base_uri": "https://localhost:8080/"
        }
      },
      "outputs": [
        {
          "output_type": "stream",
          "name": "stdout",
          "text": [
            "--- Memanggil Method Jalankan Aplikasi Pada Laptop dan Desktop ---\n",
            "Komputer dengan Merk Lenovo sedang menjalankan aplikasi Canva\n",
            "Komputer dengan Merk Axioo sedang menjalankan aplikasi Capcut\n",
            "\n",
            "--- Memanggil Method Info_Spesifikasi dengan Polimorfisme ---\n",
            "\n",
            "Merk : Lenovo\n",
            "Processor : Ryzen 5 5600 G\n",
            "Ukuran Ram 12 GB\n",
            "Ukuran Layar : 15.6 inch\n",
            "Berat Laptop : 2.3 Kg\n",
            "\n",
            "Merk : Axioo\n",
            "Processor : Intel Core i5 12400H\n",
            "Ukuran Ram 8 GB\n",
            "Jenis Casing : Tower\n",
            "Monitor External : Ya\n",
            "\n",
            "--- Memanggil Method Install Software di Laptop ---\n",
            "Software ke-1 'Minecraft' sedang diinstall di Lenovo\n",
            "Software ke-2 'PES 2021' sedang diinstall di Lenovo\n",
            "Software ke-3 'PUBG' sedang diinstall di Lenovo\n",
            "Installasi Selesai..\n",
            "\n",
            "-------------------------\n",
            "Software ke-1 'Anaconda' sedang diinstall di Lenovo\n",
            "Software ke-2 'Visual Studio Code' sedang diinstall di Lenovo\n",
            "Software ke-3 'Arduino IDE' sedang diinstall di Lenovo\n",
            "Maaf Software ke 4 Gagal Diinstall\n",
            "Software ke-5 'Brave' sedang diinstall di Lenovo\n",
            "Installasi Selesai..\n",
            "\n"
          ]
        }
      ],
      "source": [
        "# PENUGASAN JOBSHEET5\n",
        "class Komputer:\n",
        "  def __init__(self, merk:str, processor:str, ram_gb:int):\n",
        "    self.merk = merk\n",
        "    self.processor = processor\n",
        "    self.ram_gb = ram_gb\n",
        "\n",
        "  def info_spesifikasi(self):\n",
        "    print(f\"\\nMerk : {self.merk}\")\n",
        "    print(f\"Processor : {self.processor}\")\n",
        "    print(f\"Ukuran Ram {self.ram_gb} GB\")\n",
        "\n",
        "  def jalankan_aplikasi(self, nama_aplikasi:str):\n",
        "    print(f\"Komputer dengan Merk {self.merk} sedang menjalankan aplikasi {nama_aplikasi}\")\n",
        "\n",
        "  def install_software(self,*args): # Penerapan Overloading\n",
        "    if not args:\n",
        "      print(\"Tidak ada Software yang diinstall\")\n",
        "      return\n",
        "\n",
        "    for nomor,nama in enumerate(args):\n",
        "      if isinstance(nama,str): # Validasi hanya menerima input\n",
        "        print(f\"Software ke-{nomor+1} '{nama}' sedang diinstall di {self.merk}\")\n",
        "      else:\n",
        "        print(f\"Maaf Software ke {nomor+1} Gagal Diinstall\")\n",
        "    print(\"Installasi Selesai..\\n\")\n",
        "\n",
        "class Laptop(Komputer): # Kelas Anak 1\n",
        "  def __init__(self, merk:str, processor:str, ram_gb:int, ukuran_layar_inch:float, berat_kg:float):\n",
        "    super().__init__(merk,processor,ram_gb)\n",
        "    self.ukuran_layar_inch = ukuran_layar_inch\n",
        "    self.berat_kg = berat_kg\n",
        "\n",
        "  def info_spesifikasi(self):\n",
        "    super().info_spesifikasi()\n",
        "    print(f\"Ukuran Layar : {self.ukuran_layar_inch} inch\") # Overrides\n",
        "    print(f\"Berat Laptop : {self.berat_kg} Kg\")\n",
        "\n",
        "class Desktop(Komputer): # Kelas Anak 2\n",
        "  def __init__(self, merk:str, processor:str, ram_gb:int, jenis_casing:str, monitor_external:bool):\n",
        "    super().__init__(merk,processor,ram_gb)\n",
        "    self.jenis_casing = jenis_casing\n",
        "    self.monitor_external = monitor_external\n",
        "\n",
        "  def info_spesifikasi(self): # Override\n",
        "    super().info_spesifikasi()\n",
        "    print(f\"Jenis Casing : {self.jenis_casing}\")\n",
        "    if self.monitor_external:\n",
        "      print(\"Monitor External : Ya\")\n",
        "    else:\n",
        "      print(\"Monitor External : Tidak\")\n",
        "\n",
        "def cetak_semua_spesifikasi(daftar_komputer=0):# NIlai Default 0\n",
        "  if daftar_komputer:\n",
        "    for komputer in  daftar_komputer:\n",
        "      komputer.info_spesifikasi()\n",
        "  else:\n",
        "    print(\"Komputer Tidak Ditemukan\")\n",
        "\n",
        "if __name__ == '__main__':\n",
        "  laptop1 = Laptop(\"Lenovo\",\"Ryzen 5 5600 G\",12,15.6,2.3)\n",
        "  desktop1 = Desktop(\"Axioo\",\"Intel Core i5 12400H\",8,\"Tower\",True)\n",
        "\n",
        "  daftar_komputer = [laptop1,desktop1]\n",
        "\n",
        "  print(\"--- Memanggil Method Jalankan Aplikasi Pada Laptop dan Desktop ---\")\n",
        "  laptop1.jalankan_aplikasi(\"Canva\")\n",
        "  desktop1.jalankan_aplikasi(\"Capcut\")\n",
        "\n",
        "  print(\"\\n--- Memanggil Method Info_Spesifikasi dengan Polimorfisme ---\") # Penerapan Polimorfisme\n",
        "  cetak_semua_spesifikasi(daftar_komputer)\n",
        "\n",
        "  print(\"\\n--- Memanggil Method Install Software di Laptop ---\") # Penerapan Overloading\n",
        "  laptop1.install_software(\"Minecraft\",\"PES 2021\",\"PUBG\")\n",
        "  print(\"-\"*25)\n",
        "  laptop1.install_software(\"Anaconda\",\"Visual Studio Code\",\"Arduino IDE\",5,\"Brave\") # 5 Bukan str jadi tidak akan diinstall\n",
        "\n",
        "\n"
      ]
    }
  ]
}