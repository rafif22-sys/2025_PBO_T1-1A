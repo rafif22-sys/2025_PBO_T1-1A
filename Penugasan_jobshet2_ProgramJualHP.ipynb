{
  "nbformat": 4,
  "nbformat_minor": 0,
  "metadata": {
    "colab": {
      "provenance": [],
      "authorship_tag": "ABX9TyOM069Bt4ytc9PglA1v9ekJ",
      "include_colab_link": true
    },
    "kernelspec": {
      "name": "python3",
      "display_name": "Python 3"
    },
    "language_info": {
      "name": "python"
    }
  },
  "cells": [
    {
      "cell_type": "markdown",
      "metadata": {
        "id": "view-in-github",
        "colab_type": "text"
      },
      "source": [
        "<a href=\"https://colab.research.google.com/github/rafif22-sys/2025_PBO_T1-1A/blob/main/Penugasan_jobshet2_ProgramJualHP.ipynb\" target=\"_parent\"><img src=\"https://colab.research.google.com/assets/colab-badge.svg\" alt=\"Open In Colab\"/></a>"
      ]
    },
    {
      "cell_type": "code",
      "execution_count": 2,
      "metadata": {
        "colab": {
          "base_uri": "https://localhost:8080/"
        },
        "id": "KXKugrdgvPc8",
        "outputId": "63b77e1e-d7d6-48a5-8e72-d8f398fba176"
      },
      "outputs": [
        {
          "output_type": "stream",
          "name": "stdout",
          "text": [
            "=== Method Informasi Produk ===\n",
            "==== Informasi Produk ====\n",
            "Nama : Redmi 8 \n",
            "Harga : 4500000 \n",
            "Warna : Hitam \n",
            "Tahun Rilis : 2018 \n",
            "Stock : 20 \n",
            "\n",
            "==== Informasi Produk ====\n",
            "Nama : Samsung A5 \n",
            "Harga : 3000000 \n",
            "Warna : Putih \n",
            "Tahun Rilis : 2020 \n",
            "Stock : 1 \n",
            "\n",
            "=== Method Diskon ===\n",
            "Ini adalah Harga Produk B sebelum diskon = 3000000\n",
            "Harga Samsung A5 setelah diskon 20% adalah = 2400000.0\n",
            "Ini adalah Harga Produk B sekarang 2400000.0\n",
            "\n",
            "=== Method Dijual ===\n",
            "Produk Berhasil Terjual,Sisa Produk = 17\n",
            "Mohon Maaf Produk Sedang Kosong Atau Stock Produk Sedang Tidak Dapat Mencukupi Permintaan\n",
            "Sisa Produk A Sekarang =  17\n",
            "Sisa Produk B Sekarang =  1\n",
            "\n",
            " === Method Restock ===\n",
            "Sisa Produk A Sekarang =  17\n",
            "Sisa Produk B Sekarang =  1\n",
            "Jumlah Produk Berhasil Ditambahkan, Total Produk Sekarang = 22\n",
            "Jumlah Produk Berhasil Ditambahkan, Total Produk Sekarang = 13\n",
            "Sisa Produk A Sekarang =  22\n",
            "Sisa Produk B Sekarang =  13\n",
            "\n",
            " === Method Bandingkan Harga ===\n",
            "Redmi 8 lebih mahal dibandingkan Samsung A5.\n",
            "Samsung A5 lebih murah dibandingkan Redmi 8.\n",
            "\n",
            "=== Method Hitung Total Penjualan ===\n",
            "Total penjualan 3 unit Redmi 8 adalah Rp13,500,000.\n",
            "Total penjualan 2 unit Samsung A5 adalah Rp4,800,000.0.\n"
          ]
        }
      ],
      "source": [
        "import module\n",
        "\n",
        "def main():\n",
        "    produk_HP_A = module.Handphone(\"Redmi 8\",4500000,\"Hitam\",20,2018)\n",
        "    produk_HP_B = module.Handphone(\"Samsung A5\",3000000,\"Putih\",1,2020)\n",
        "\n",
        "    print(\"=== Method Informasi Produk ===\")\n",
        "    produk_HP_A.informasi_handphone()\n",
        "    print()\n",
        "    produk_HP_B.informasi_handphone()\n",
        "\n",
        "    print(\"\\n=== Method Diskon ===\")\n",
        "    print(f\"Ini adalah Harga Produk B sebelum diskon = {produk_HP_B.harga}\")\n",
        "    produk_HP_B.diskon(20)\n",
        "    print(f\"Ini adalah Harga Produk B sekarang {produk_HP_B.harga}\")\n",
        "\n",
        "    print(\"\\n=== Method Dijual ===\")\n",
        "    produk_HP_A.dijual(3)\n",
        "    produk_HP_B.dijual(2)\n",
        "    print(f\"Sisa Produk A Sekarang =  {produk_HP_A.stock}\")\n",
        "    print(f\"Sisa Produk B Sekarang =  {produk_HP_B.stock}\")\n",
        "\n",
        "    print(\"\\n === Method Restock ===\")\n",
        "    print(f\"Sisa Produk A Sekarang =  {produk_HP_A.stock}\")\n",
        "    print(f\"Sisa Produk B Sekarang =  {produk_HP_B.stock}\")\n",
        "    produk_HP_A.restock(5)\n",
        "    produk_HP_B.restock(12)\n",
        "    print(f\"Sisa Produk A Sekarang =  {produk_HP_A.stock}\")\n",
        "    print(f\"Sisa Produk B Sekarang =  {produk_HP_B.stock}\")\n",
        "\n",
        "    print(\"\\n === Method Bandingkan Harga ===\")\n",
        "    produk_HP_A.bandingkan_harga(produk_HP_B)\n",
        "    produk_HP_B.bandingkan_harga(produk_HP_A)\n",
        "\n",
        "    print(\"\\n=== Method Hitung Total Penjualan ===\")\n",
        "\n",
        "    produk_HP_A.hitung_total_penjualan(3)\n",
        "    produk_HP_B.hitung_total_penjualan(2)\n",
        "\n",
        "if __name__ == \"__main__\":\n",
        "    main()\n",
        "\n",
        "\n"
      ]
    }
  ]
}