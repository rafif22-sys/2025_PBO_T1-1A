{
  "nbformat": 4,
  "nbformat_minor": 0,
  "metadata": {
    "colab": {
      "provenance": [],
      "authorship_tag": "ABX9TyONW3RfPDf0cf6jmxJLtRtM",
      "include_colab_link": true
    },
    "kernelspec": {
      "name": "python3",
      "display_name": "Python 3"
    },
    "language_info": {
      "name": "python"
    }
  },
  "cells": [
    {
      "cell_type": "markdown",
      "metadata": {
        "id": "view-in-github",
        "colab_type": "text"
      },
      "source": [
        "<a href=\"https://colab.research.google.com/github/rafif22-sys/2025_PBO_T1-1A/blob/main/Jobsheet3PBO_RafifAli.ipynb\" target=\"_parent\"><img src=\"https://colab.research.google.com/assets/colab-badge.svg\" alt=\"Open In Colab\"/></a>"
      ]
    },
    {
      "cell_type": "code",
      "execution_count": null,
      "metadata": {
        "id": "ZiLLHG_oP0_j",
        "colab": {
          "base_uri": "https://localhost:8080/"
        },
        "outputId": "b3b5e987-cdd5-41f8-e876-91ee523dac30"
      },
      "outputs": [
        {
          "output_type": "stream",
          "name": "stdout",
          "text": [
            "500 telah ditambahkan ke akun Alice\n",
            "Jumlah Deposit Harus Lebih dari 0\n",
            "\n",
            "300 telah ditarik dari akun Alice\n",
            "Saldo Tidak Mencukupi !\n",
            "\n",
            "Saldo Terakhir di akun Alice: 1200\n"
          ]
        }
      ],
      "source": [
        "# PRAKTIKUM 1\n",
        "class BankAccount:\n",
        "  def __init__(self,owner,balance):\n",
        "    # Atribuut dengan double underscore (__) dianggap \"private\" di Python\n",
        "    self.__owner = owner\n",
        "    self.__balance = balance\n",
        "\n",
        "  def deposit(self,amount):\n",
        "    # Method Untuk Menambahkan Saldo\n",
        "    if amount > 0:\n",
        "      self.__balance += amount\n",
        "      print(f\"{amount} telah ditambahkan ke akun {self.__owner}\")\n",
        "    else:\n",
        "      print(\"Jumlah Deposit Harus Lebih dari 0\")\n",
        "\n",
        "  def withdraw(self,amount):\n",
        "    # Method untuk Menarik Saldo\n",
        "    if amount <= self.__balance:\n",
        "      self.__balance -= amount\n",
        "      print(f\"{amount} telah ditarik dari akun {self.__owner}\")\n",
        "    else:\n",
        "      print(\"Saldo Tidak Mencukupi !\")\n",
        "\n",
        "  def get_balance(self):\n",
        "    # Method Untuk Mendapatkan Saldo Terkini\n",
        "    return self.__balance\n",
        "\n",
        "\n",
        "\"\"\"=== CONTOH PENGGUNAAN ===\"\"\"\n",
        "if __name__ == '__main__':\n",
        "  # Membuat Account dengan Owner = \"Alice\" dan Balance Awal = 1000\n",
        "  alice_account = BankAccount(owner=\"Alice\",balance=1000)\n",
        "\n",
        "  # Deposit Uang\n",
        "  alice_account.deposit(500) # Ini akan Berhasil\n",
        "  alice_account.deposit(-100) # Ini Gagal(Validasi)\n",
        "  print()\n",
        "\n",
        "  # Withdraw Uang (Narik  Uang)\n",
        "  alice_account.withdraw(300) # Berhasil\n",
        "  alice_account.withdraw(2000) # Gagal  karena saldo tak cukup\n",
        "  print()\n",
        "\n",
        "  # Mendapatkan Saldo Terbaru\n",
        "  current_balance = alice_account.get_balance()\n",
        "  print(f\"Saldo Terakhir di akun {alice_account._BankAccount__owner}: {current_balance}\")\n",
        "  # \"alice_account._BankAccount__owner\" => Cara Memanggil Private Tribut yang Benar\n",
        "  # format : namaobjek._namaclass__namaatribut\n",
        "\n",
        "  # Mencoba Mengakses Atribut 'Private' langsung (Tidak Disaranakan)\n",
        "  # alice_account.__balance # Ini akan ERROR\n",
        "  # Karena Python \"Mangling\" nama atribut '__balance' menjadi '_BancAccount__balance'\n",
        "\n",
        "  # Ini adalah Salah satu mekanisme enkapsilasi sederhana di python\n",
        "\n"
      ]
    },
    {
      "cell_type": "code",
      "source": [
        "# PRAKTIKUM 2\n",
        "\n",
        "class Employee:\n",
        "  def __init__(self, name, salary):\n",
        "    # Atribut Private dengan double Underscore\n",
        "    self.__name = name\n",
        "    self.__salary = salary\n",
        "\n",
        "  def update_salary(self, increase):\n",
        "    # Method untuk Menaikkan Gaji dengan Validasi\n",
        "    if increase > 0 :\n",
        "      self.__salary += increase\n",
        "      print(f\"Gaji telah dinaikkan sebesar {increase}\")\n",
        "    else:\n",
        "      print(\"Nilai Kenaikan Harus Lebih dari 0\")\n",
        "\n",
        "  def set_salary(self, new_salary):\n",
        "    # Method untuk menambah gaji dengan validasi\n",
        "    if new_salary >= 0 :\n",
        "      self.__salary =  new_salary\n",
        "      print(f\"Gaji diatur ulang menjadi {new_salary}\")\n",
        "    else :\n",
        "      print(f\"Gaji tidak dapat bernilai negatif\")\n",
        "\n",
        "  def get_salary(self):\n",
        "    # Method untuk mendapatkan informasi Gajii terbaru\n",
        "    return self.__salary\n",
        "\n",
        "  def get_employee_info(self):\n",
        "    # Method untuk menampilkan informasi karyawan secara Menyeluruh\n",
        "    return f\"Employee : {self.__name}, Gaji : {self.__salary}\"\n",
        "\n",
        "'''=== CONTOH PENGGUNAAN ==='''\n",
        "\n",
        "if __name__ == '__main__':\n",
        "  # Membuat Employee dengan nama John Doe dan Gaji Awal 50000\n",
        "  employee1 = Employee(\"John Doe\", 50000)\n",
        "\n",
        "  # Tampilkan Informasi Karyawan\n",
        "  print()\n",
        "  print(employee1.get_employee_info())\n",
        "  print()\n",
        "\n",
        "  # Update Gaji dengan menaikkan sebesar 5000\n",
        "  employee1.update_salary(5000)\n",
        "  print(f\"Gaji Setelah Kenaikkan = {employee1.get_salary()} \\n\")\n",
        "\n",
        "  # Atur Ulang Gaji dengan Nilai Baru\n",
        "  employee1.set_salary(60000)\n",
        "  print(f\"Informasi Terbaru : {employee1.get_employee_info()} \\n\")\n",
        "\n",
        "  # Mencoba Mengakses Atribut private secara langsung (tidak direkomendasikan)\n",
        "  # Contoh : print(employee1.__salary) -> Akan Error"
      ],
      "metadata": {
        "colab": {
          "base_uri": "https://localhost:8080/"
        },
        "id": "WHB-Pbh_-2PD",
        "outputId": "51cb96a3-a996-4144-dbf9-2a171639c60f"
      },
      "execution_count": null,
      "outputs": [
        {
          "output_type": "stream",
          "name": "stdout",
          "text": [
            "\n",
            "Employee : John Doe, Gaji : 50000\n",
            "\n",
            "Gaji telah dinaikkan sebesar 5000\n",
            "Gaji Setelah Kenaikkan = 55000 \n",
            "\n",
            "Gaji diatur ulang menjadi 60000\n",
            "Informasi Terbaru : Employee : John Doe, Gaji : 60000 \n",
            "\n"
          ]
        }
      ]
    },
    {
      "cell_type": "code",
      "source": [
        "# PRAKTIKUM 3\n",
        "class SimpleExample:\n",
        "  def __init__(self, name):\n",
        "    \"\"\"\n",
        "    Konstruktor Dipanggil Saat Objek Dibuat\n",
        "    Mencetak Nilai 'name' dan mencetak pesan pembuatan obje\n",
        "    \"\"\"\n",
        "    self.name = name\n",
        "    print(f\"Konstruktor: Objek '{self.name}' Telah Dibuat\")\n",
        "\n",
        "  def __del__(self):\n",
        "    \"\"\"\n",
        "    Dekonstruktor dipanggil  saat objek dihapus\n",
        "    mencetak pesan bahwa onbjek telah dihapus\n",
        "    \"\"\"\n",
        "    print(f\"Dekonstruktor : Objek '{self.name}' Sedang Dihapus\")\n",
        "\n",
        "def main():\n",
        "  print(\"Program Dimulai \\n\")\n",
        "\n",
        "  # Membuat Objek SimpleExample\n",
        "  obj = SimpleExample('Demo')\n",
        "  print(\"Objek Sedang Berjalan \\n\")\n",
        "\n",
        "  # Menghapus Objek Secara Eksplisit\n",
        "  del obj\n",
        "  print(\"Objek Telah Dihapus Secara Eksplisit \\n\")\n",
        "\n",
        "  print(\"Program Selesai\")\n",
        "\n",
        "if __name__ == '__main__':\n",
        "  main()"
      ],
      "metadata": {
        "id": "OQQaJ7PsGXuL",
        "outputId": "bf99945f-e576-4ca3-db44-ef8a2bf10e20",
        "colab": {
          "base_uri": "https://localhost:8080/"
        }
      },
      "execution_count": 9,
      "outputs": [
        {
          "output_type": "stream",
          "name": "stdout",
          "text": [
            "Program Dimulai \n",
            "\n",
            "Konstruktor: Objek 'Demo' Telah Dibuat\n",
            "Objek Sedang Berjalan \n",
            "\n",
            "Dekonstruktor : Objek 'Demo' Sedang Dihapus\n",
            "Objek Telah Dihapus Secara Eksplisit \n",
            "\n",
            "Program Selesai\n"
          ]
        }
      ]
    },
    {
      "cell_type": "code",
      "source": [
        "# PRAKTIKUM 4\n",
        "\n",
        "class FileLogger:\n",
        "  def __init__(self, filename):\n",
        "    \"\"\"\n",
        "    Konstruktor : Membuka file log untuk menulis pesan.\n",
        "    parameter :\n",
        "      -filename : Nama file tempat log akan ditulis\n",
        "    \"\"\"\n",
        "    self.filename = filename\n",
        "\n",
        "    try:\n",
        "      self.file = open(filename, \"a\") # Mmembuka file dengan mode append\n",
        "      print(f\"File '{self.filename}' berhasil dibuka untuk logging\")\n",
        "\n",
        "    except Exception as e:\n",
        "      print(f\"Gagal Membuka file '{filename}': {e}\")\n",
        "\n",
        "  def write_log(self, message):\n",
        "    \"\"\"\n",
        "    Menulis pesan log ke dalam file\n",
        "    parameter:\n",
        "      - message : Pesan yang akan ditulis ke file\n",
        "    \"\"\"\n",
        "\n",
        "    self.file.write(message + \"\\n\")\n",
        "    self.file.flush() # Memastikan pesan langsung ditulis ke dalam disk\n",
        "    print(f\"Pesan log : '{message}' telah ditulis\")\n",
        "\n",
        "  def __del__(self):\n",
        "    \"\"\"\n",
        "    Dekonstruktor : Menutup file Log Ketika Objek dihapus\n",
        "    \"\"\"\n",
        "    if hasattr(self, \"file\") and not self.file.closed:\n",
        "      self.file.close()\n",
        "      print(f\"File '{self.filename}' telah ditutup\")\n",
        "\n",
        "# CONTOH PENGGUNAAN DALAM SKENARIO NYATA\n",
        "if __name__ == \"__main__\":\n",
        "  # Membuat objek logger untuk file \"application.log\"\n",
        "  logger =  FileLogger(\"application.log\")\n",
        "\n",
        "  # Menulis Beberapa pesan log selama operasi aplikasi\n",
        "  logger.write_log(\"Aplikasi Dimulai.\")\n",
        "  logger.write_log(\"Melakukan Operasi A...\")\n",
        "  logger.write_log(\"Operasi A selesai.\")\n",
        "  logger.write_log(\"Aplikasi akan segera selesai.\")\n",
        "\n",
        "  # Menghapus Objek Logger secara Eksplisit\n",
        "  del logger\n",
        "  # Jika Objek tidak dihapus secara eksplisit, destruktor  akan dipanggil\n",
        "  # Ketika program berakhir dan garbage collection Mmbersihkan Objek Tersebut\n"
      ],
      "metadata": {
        "id": "PtzjDATpESOl",
        "colab": {
          "base_uri": "https://localhost:8080/"
        },
        "outputId": "6d195b5f-2a42-404a-881d-f72440c4fc8f"
      },
      "execution_count": 15,
      "outputs": [
        {
          "output_type": "stream",
          "name": "stdout",
          "text": [
            "File 'application.log' berhasil dibuka untuk logging\n",
            "Pesan log : 'Aplikasi Dimulai.' telah ditulis\n",
            "Pesan log : 'Melakukan Operasi A...' telah ditulis\n",
            "Pesan log : 'Operasi A selesai.' telah ditulis\n",
            "Pesan log : 'Aplikasi akan segera selesai.' telah ditulis\n",
            "File 'application.log' telah ditutup\n"
          ]
        }
      ]
    },
    {
      "cell_type": "code",
      "source": [
        "# PRAKTIKUM 5\n",
        "class Calculator:\n",
        "  def __init__(self, initial_value = 0):\n",
        "    \"\"\"\n",
        "    Konstruktor Kelas Calculator\n",
        "    - self : Mengacu pada Instance yang dibuat\n",
        "    - initial value : nilai awal dari kalkulator\n",
        "    \"\"\"\n",
        "    self.value = initial_value\n",
        "    print(f\"Kalkulator diinisialisasi dengan nilai : {self.value}\")\n",
        "\n",
        "  def add(self, number):\n",
        "    \"\"\"\n",
        "    Menambahkan 'Number' ke nilai yang tersimpan di objek\n",
        "    - self.value : Menunjukkn nilai saat ini yang disimpan di objek tersebut\n",
        "    - NUmber : Nilai yang akan ditambahkan\n",
        "    \"\"\"\n",
        "    self.value += number\n",
        "    print(f\"Setelah penambahan {number}, nilai sekarang adalah : {self.value}\")\n",
        "\n",
        "  def subtract(self, number):\n",
        "    \"\"\"\n",
        "    Mengurangi 'number' dari nilai yang tersimpan\n",
        "    - self.value : Menunjukkn nilai saat ini yang disimpan di objek tersebut\n",
        "    - NUmber : Nilai yang akan dikurangkan\n",
        "    \"\"\"\n",
        "    self.value -= number\n",
        "    print(f\"Setelah Pengurangan {number}, nilai sekarang adalah : {self.value}\")\n",
        "\n",
        "  def reset(self):\n",
        "    \"\"\"\n",
        "    Mengatur Nilai Kalkulator kembali  ke 0\n",
        "    \"\"\"\n",
        "    self.value = 0\n",
        "    print(\"Nilai telah direset ke 0\")\n",
        "\n",
        "  def show_value(self):\n",
        "    \"\"\"\n",
        "    Menampilkan Nilai  saat ini dari kalkulator\n",
        "    \"\"\"\n",
        "    print(f\"nilai saat ini adalah : {self.value}\")\n",
        "\n",
        "# Contoh Penggunaaan untuk memahami peran self\n",
        "def main():\n",
        "  # Membuat Objek Kalkulator dengan nilai awal 10\n",
        "  calc1 = Calculator(initial_value=10)\n",
        "\n",
        "  # Menggunakan metode dari Objek Calcl\n",
        "  calc1.add(5) # Menambah 5 ke nilai Calcl\n",
        "  calc1.subtract(3) # Mengurangi 3 dari nilai calcl\n",
        "  calc1.show_value() # Manmpilkan nilai cacl\n",
        "  print()\n",
        "  # Membuat Objek Calculator lainnya dengan nilai awal default\n",
        "  calc2 = Calculator()\n",
        "  calc2.add(20) # Menambah 20 ke nilai cal2\n",
        "  calc2.show_value() # Menampilkan Nilai calc2\n",
        "\n",
        "  # Penjelasan Peran self\n",
        "  # 'Self' Memungkinkan setiap instance (calc1,calc2) memiliki atribut 'value' masing masing\n",
        "  # mengacuk pada self yang berbeda (instance yang berbeda)\n",
        "\n",
        "if __name__ == \"__main__\":\n",
        "  main()"
      ],
      "metadata": {
        "colab": {
          "base_uri": "https://localhost:8080/"
        },
        "id": "4nhqynzxsfLy",
        "outputId": "fde94149-e99b-4e20-a79d-a9a78db3dc89"
      },
      "execution_count": 19,
      "outputs": [
        {
          "output_type": "stream",
          "name": "stdout",
          "text": [
            "Kalkulator diinisialisasi dengan nilai : 10\n",
            "Setelah penambahan 5, nilai sekarang adalah : 15\n",
            "Setelah Pengurangan 3, nilai sekarang adalah : 12\n",
            "nilai saat ini adalah : 12\n",
            "\n",
            "Kalkulator diinisialisasi dengan nilai : 0\n",
            "Setelah penambahan 20, nilai sekarang adalah : 20\n",
            "nilai saat ini adalah : 20\n"
          ]
        }
      ]
    },
    {
      "cell_type": "code",
      "source": [
        "# PRAKTIKUM 6\n",
        "class Person :\n",
        "  def __init__(self, name, age):\n",
        "    \"\"\"\n",
        "    Konstruktor untuk menginisialisasi objek Person dengan nama dan umur\n",
        "    Atribut Privat (dengan double underscore) menyimpan data internal\n",
        "    \"\"\"\n",
        "    self.__name = name\n",
        "    self.__age = age\n",
        "\n",
        "  @property\n",
        "  def name(self):\n",
        "    \"\"\"\n",
        "    Getter untuk atribut name\n",
        "    mengembalikan nilai dari __name\n",
        "    \"\"\"\n",
        "    return  self.__name\n",
        "\n",
        "  @name.setter\n",
        "  def name(self, value):\n",
        "    \"\"\"\n",
        "    Setter untuk atribut name\n",
        "    memeriksa apakah nilai tidak kosong sebelum mengubah nilai __name\n",
        "    \"\"\"\n",
        "    if not value:\n",
        "      print(\"Nama tidak boleh kosong\")\n",
        "    else:\n",
        "      self.__name = value\n",
        "\n",
        "  @property\n",
        "  def age(self):\n",
        "    \"\"\"\n",
        "    getter untuk atribut age\n",
        "    Mengembalikan nilai dari __age\n",
        "    \"\"\"\n",
        "    return self.__age\n",
        "\n",
        "  @age.setter\n",
        "  def age(self, value):\n",
        "    \"\"\"\n",
        "    Setter untuk atribut age\n",
        "    Memeriksa apakah nilai umur tidak negatif sebelum mengubah nilai __age\n",
        "    \"\"\"\n",
        "    if value < 0 :\n",
        "      print(\"Umur tidak boleh negatif\")\n",
        "    else:\n",
        "      self.__age = value\n",
        "\n",
        "#Contoh Penggunaan\n",
        "def main():\n",
        "  # Membuat Objek Person dengan nama \"Alice\" dan umur 30\n",
        "  person = Person(\"Alice\",30)\n",
        "  print(f\"Nama : {person.name}, Umur : {person.age}\")\n",
        "\n",
        "  # Mengubah nama dan Umur Melalui setter\n",
        "  person.name = \"Bob\"\n",
        "  person.age = 35\n",
        "  print(f\"Nama Baru : {person.name}, Umur Baru : {person.age}\")\n",
        "\n",
        "  # Mencoba Menetapkan Nilai yang tidak valid untuk umut\n",
        "  person.age = -5\n",
        "  # Akan Memunculkan pesan error karena validasi umur negatif\n",
        "\n",
        "if __name__ == \"__main__\":\n",
        "  main()"
      ],
      "metadata": {
        "colab": {
          "base_uri": "https://localhost:8080/"
        },
        "id": "QCFMpZTvDNHl",
        "outputId": "974eaa34-78b0-4ec3-bfd8-6e350c1d5689"
      },
      "execution_count": 23,
      "outputs": [
        {
          "output_type": "stream",
          "name": "stdout",
          "text": [
            "Nama : Alice, Umur : 30\n",
            "Nama Baru : Bob, Umur Baru : 35\n",
            "Umur tidak boleh negatif\n"
          ]
        }
      ]
    }
  ]
}