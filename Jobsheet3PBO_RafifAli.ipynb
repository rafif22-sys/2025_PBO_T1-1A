{
  "nbformat": 4,
  "nbformat_minor": 0,
  "metadata": {
    "colab": {
      "provenance": [],
      "authorship_tag": "ABX9TyNZR+q1ejTEkzjfcV01kW/L",
      "include_colab_link": true
    },
    "kernelspec": {
      "name": "python3",
      "display_name": "Python 3"
    },
    "language_info": {
      "name": "python"
    }
  },
  "cells": [
    {
      "cell_type": "markdown",
      "metadata": {
        "id": "view-in-github",
        "colab_type": "text"
      },
      "source": [
        "<a href=\"https://colab.research.google.com/github/rafif22-sys/2025_PBO_T1-1A/blob/main/Jobsheet3PBO_RafifAli.ipynb\" target=\"_parent\"><img src=\"https://colab.research.google.com/assets/colab-badge.svg\" alt=\"Open In Colab\"/></a>"
      ]
    },
    {
      "cell_type": "code",
      "execution_count": null,
      "metadata": {
        "id": "ZiLLHG_oP0_j",
        "colab": {
          "base_uri": "https://localhost:8080/"
        },
        "outputId": "b3b5e987-cdd5-41f8-e876-91ee523dac30"
      },
      "outputs": [
        {
          "output_type": "stream",
          "name": "stdout",
          "text": [
            "500 telah ditambahkan ke akun Alice\n",
            "Jumlah Deposit Harus Lebih dari 0\n",
            "\n",
            "300 telah ditarik dari akun Alice\n",
            "Saldo Tidak Mencukupi !\n",
            "\n",
            "Saldo Terakhir di akun Alice: 1200\n"
          ]
        }
      ],
      "source": [
        "# PRAKTIKUM 1\n",
        "class BankAccount:\n",
        "  def __init__(self,owner,balance):\n",
        "    # Atribuut dengan double underscore (__) dianggap \"private\" di Python\n",
        "    self.__owner = owner\n",
        "    self.__balance = balance\n",
        "\n",
        "  def deposit(self,amount):\n",
        "    # Method Untuk Menambahkan Saldo\n",
        "    if amount > 0:\n",
        "      self.__balance += amount\n",
        "      print(f\"{amount} telah ditambahkan ke akun {self.__owner}\")\n",
        "    else:\n",
        "      print(\"Jumlah Deposit Harus Lebih dari 0\")\n",
        "\n",
        "  def withdraw(self,amount):\n",
        "    # Method untuk Menarik Saldo\n",
        "    if amount <= self.__balance:\n",
        "      self.__balance -= amount\n",
        "      print(f\"{amount} telah ditarik dari akun {self.__owner}\")\n",
        "    else:\n",
        "      print(\"Saldo Tidak Mencukupi !\")\n",
        "\n",
        "  def get_balance(self):\n",
        "    # Method Untuk Mendapatkan Saldo Terkini\n",
        "    return self.__balance\n",
        "\n",
        "\n",
        "\"\"\"=== CONTOH PENGGUNAAN ===\"\"\"\n",
        "if __name__ == '__main__':\n",
        "  # Membuat Account dengan Owner = \"Alice\" dan Balance Awal = 1000\n",
        "  alice_account = BankAccount(owner=\"Alice\",balance=1000)\n",
        "\n",
        "  # Deposit Uang\n",
        "  alice_account.deposit(500) # Ini akan Berhasil\n",
        "  alice_account.deposit(-100) # Ini Gagal(Validasi)\n",
        "  print()\n",
        "\n",
        "  # Withdraw Uang (Narik  Uang)\n",
        "  alice_account.withdraw(300) # Berhasil\n",
        "  alice_account.withdraw(2000) # Gagal  karena saldo tak cukup\n",
        "  print()\n",
        "\n",
        "  # Mendapatkan Saldo Terbaru\n",
        "  current_balance = alice_account.get_balance()\n",
        "  print(f\"Saldo Terakhir di akun {alice_account._BankAccount__owner}: {current_balance}\")\n",
        "  # \"alice_account._BankAccount__owner\" => Cara Memanggil Private Tribut yang Benar\n",
        "  # format : namaobjek._namaclass__namaatribut\n",
        "\n",
        "  # Mencoba Mengakses Atribut 'Private' langsung (Tidak Disaranakan)\n",
        "  # alice_account.__balance # Ini akan ERROR\n",
        "  # Karena Python \"Mangling\" nama atribut '__balance' menjadi '_BancAccount__balance'\n",
        "\n",
        "  # Ini adalah Salah satu mekanisme enkapsilasi sederhana di python\n",
        "\n"
      ]
    },
    {
      "cell_type": "code",
      "source": [
        "# PRAKTIKUM 2\n",
        "\n",
        "class Employee:\n",
        "  def __init__(self, name, salary):\n",
        "    # Atribut Private dengan double Underscore\n",
        "    self.__name = name\n",
        "    self.__salary = salary\n",
        "\n",
        "  def update_salary(self, increase):\n",
        "    # Method untuk Menaikkan Gaji dengan Validasi\n",
        "    if increase > 0 :\n",
        "      self.__salary += increase\n",
        "      print(f\"Gaji telah dinaikkan sebesar {increase}\")\n",
        "    else:\n",
        "      print(\"Nilai Kenaikan Harus Lebih dari 0\")\n",
        "\n",
        "  def set_salary(self, new_salary):\n",
        "    # Method untuk menambah gaji dengan validasi\n",
        "    if new_salary >= 0 :\n",
        "      self.__salary =  new_salary\n",
        "      print(f\"Gaji diatur ulang menjadi {new_salary}\")\n",
        "    else :\n",
        "      print(f\"Gaji tidak dapat bernilai negatif\")\n",
        "\n",
        "  def get_salary(self):\n",
        "    # Method untuk mendapatkan informasi Gajii terbaru\n",
        "    return self.__salary\n",
        "\n",
        "  def get_employee_info(self):\n",
        "    # Method untuk menampilkan informasi karyawan secara Menyeluruh\n",
        "    return f\"Employee : {self.__name}, Gaji : {self.__salary}\"\n",
        "\n",
        "'''=== CONTOH PENGGUNAAN ==='''\n",
        "\n",
        "if __name__ == '__main__':\n",
        "  # Membuat Employee dengan nama John Doe dan Gaji Awal 50000\n",
        "  employee1 = Employee(\"John Doe\", 50000)\n",
        "\n",
        "  # Tampilkan Informasi Karyawan\n",
        "  print()\n",
        "  print(employee1.get_employee_info())\n",
        "  print()\n",
        "\n",
        "  # Update Gaji dengan menaikkan sebesar 5000\n",
        "  employee1.update_salary(5000)\n",
        "  print(f\"Gaji Setelah Kenaikkan = {employee1.get_salary()} \\n\")\n",
        "\n",
        "  # Atur Ulang Gaji dengan Nilai Baru\n",
        "  employee1.set_salary(60000)\n",
        "  print(f\"Informasi Terbaru : {employee1.get_employee_info()} \\n\")\n",
        "\n",
        "  # Mencoba Mengakses Atribut private secara langsung (tidak direkomendasikan)\n",
        "  # Contoh : print(employee1.__salary) -> Akan Error"
      ],
      "metadata": {
        "colab": {
          "base_uri": "https://localhost:8080/"
        },
        "id": "WHB-Pbh_-2PD",
        "outputId": "51cb96a3-a996-4144-dbf9-2a171639c60f"
      },
      "execution_count": null,
      "outputs": [
        {
          "output_type": "stream",
          "name": "stdout",
          "text": [
            "\n",
            "Employee : John Doe, Gaji : 50000\n",
            "\n",
            "Gaji telah dinaikkan sebesar 5000\n",
            "Gaji Setelah Kenaikkan = 55000 \n",
            "\n",
            "Gaji diatur ulang menjadi 60000\n",
            "Informasi Terbaru : Employee : John Doe, Gaji : 60000 \n",
            "\n"
          ]
        }
      ]
    },
    {
      "cell_type": "code",
      "source": [
        "# PRAKTIKUM 3\n",
        "\n",
        "class SimpleExample :\n",
        "  def __init__(self, name):\n",
        "    \"\"\"\n",
        "    Konstruktor dipanggil saat Objek Dubuat\n",
        "    Mencentak nilai 'name' dan mencetak pesan pembuatan Objek\n",
        "    \"\"\"\n",
        "    self.name = name\n",
        "    print(f\"Konstruktor: Objek '{self.name}' telah dibuat\")\n",
        "  def __del__(self):\n",
        "    \"\"\"\n",
        "    Dekonstruktor dipanggil saat objek dihapus\n",
        "    mencetak pesan bahwa objek telah dihapus\n",
        "    \"\"\"\n",
        "    print(f\"Dekonstruktor : Objek '{self.name}' Sedang Dihapus \")\n",
        "\n",
        "def main():\n",
        "  print(\"Program Dimulai \\n\")\n",
        "\n",
        "  # Membuat Objek SimpleExample\n",
        "  obj = SimpleExample(\"Demo\")\n",
        "  print(\"Objek Sedang Berjalan \\n\")\n",
        "\n",
        "  # Menghapus Objek Secara Eksplisit\n",
        "  del obj\n",
        "  print(\"Objek telah Dihapus Secara Eksplisit \\n\")\n",
        "\n",
        "  print(\"Program Selesai\")\n",
        "\n",
        "if __name__ == '__main__':\n",
        "  main()"
      ],
      "metadata": {
        "id": "OQQaJ7PsGXuL",
        "outputId": "48090785-8103-457f-9f14-0cc7381a1895",
        "colab": {
          "base_uri": "https://localhost:8080/"
        }
      },
      "execution_count": 3,
      "outputs": [
        {
          "output_type": "stream",
          "name": "stdout",
          "text": [
            "Program Dimulai \n",
            "\n",
            "Konstruktor: Objek 'Demo' telah dibuat\n",
            "Objek Sedang Berjalan \n",
            "\n",
            "Dekonstruktor : Objek 'Demo' Sedang Dihapus \n",
            "Objek telah Dihapus Secara Eksplisit \n",
            "\n",
            "Program Selesai\n"
          ]
        }
      ]
    },
    {
      "cell_type": "code",
      "source": [],
      "metadata": {
        "id": "PtzjDATpESOl"
      },
      "execution_count": null,
      "outputs": []
    }
  ]
}